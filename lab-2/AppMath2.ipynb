{
  "nbformat": 4,
  "nbformat_minor": 0,
  "metadata": {
    "colab": {
      "name": "AppMath2.ipynb",
      "provenance": [],
      "collapsed_sections": [
        "lZmZHIBGzwBt",
        "6Hu7wT1Zzz9p",
        "sdmH5jf9z3YQ",
        "TNOt5y-Oz7Yp"
      ]
    },
    "kernelspec": {
      "name": "python3",
      "display_name": "Python 3"
    },
    "language_info": {
      "name": "python"
    }
  },
  "cells": [
    {
      "cell_type": "markdown",
      "source": [
        "#Лабораторная работа 2: градиентный спуск#\n",
        "\n",
        "1. Реализовать метод градиентного спуска\n",
        "\n",
        "2. Оценить как меняется скорость сходимости, если для поиска величины шага использовать:\n",
        " - постоянную велечину шага\n",
        " - метод дробления шага\n",
        " - метод золотого сечения\n",
        " - метод Фибоначчи\n",
        " - метод линейного поиска (***)\n",
        "\n",
        "3. Проанализировать траекторию реализованных методов для нескольких квадратичных функций (двумерных):\n",
        " - придумать 2-3 функции, на которых метод будет отличаться\n",
        " - рассмотреть разные начальные приближения\n",
        " - нарисавать гафики с линиями уровня и траектории методов\n",
        "\n",
        "4. Сделать вывод о зависимости сходимости метода от выбранной точки начального приближения\n",
        "\n",
        "5. Реализовать один из методов сопряженных направлений:\n",
        " - метод сопряженных градиентов\n",
        " - метод Флетчера-Ривса\n",
        " - метод Полака-рибьера\n",
        "\n",
        "6. Сравнить траектории градиентного спуска и метода сопряженных направлений при фиксированном начальном приближении\n",
        "\n",
        "7. Отчет + вывод + защита"
      ],
      "metadata": {
        "id": "8qMfuBAaNCqw"
      }
    },
    {
      "cell_type": "code",
      "source": [
        "import numpy as np\n",
        "import matplotlib.pyplot as plt\n",
        "from mpl_toolkits.mplot3d import Axes3D"
      ],
      "metadata": {
        "id": "pOGA1Z616H9I"
      },
      "execution_count": null,
      "outputs": []
    },
    {
      "cell_type": "code",
      "source": [
        "def dist(a, b) -> float:\n",
        "    return ((b[0]-a[0])**2 + (b[1]-a[1])**2)**0.5\n",
        "\n",
        "def scalar(a, b) -> float:\n",
        "    return (b[0] * a[0] + b[1] * a[1])\n",
        "\n",
        "def grad_stop(x_1, x_2, f_1, f_2, eps, p):\n",
        "    if round(dist(x_2, x_1) + abs(f_2 - f_1), p + 1) <= eps:\n",
        "        return True\n",
        "    return False"
      ],
      "metadata": {
        "id": "ePE-OyL4jxfW"
      },
      "execution_count": null,
      "outputs": []
    },
    {
      "cell_type": "code",
      "source": [
        "def f(x) -> float:\n",
        "    return 2 * x[0] ** 2 + x[0] * x[1] + x[1] ** 2\n",
        "\n",
        "def dfdx(x) -> float:\n",
        "    return 4 * x[0] + x[1] \n",
        "\n",
        "def dfdy(x) -> float:\n",
        "    return x[0] + 2 * x[1] \n",
        "\n",
        "def grad_f(x):\n",
        "    return (dfdx(x), dfdy(x))\n",
        "\n",
        "def np_f(x, y):\n",
        "    return x ** 2 + x * y + y ** 2"
      ],
      "metadata": {
        "id": "mXKkddf5Bm5s"
      },
      "execution_count": null,
      "outputs": []
    },
    {
      "cell_type": "code",
      "source": [
        "def g(x) -> float:\n",
        "    return (x[0] + 1) ** 2 / 4 + (2 * x[1] - 1) ** 2 / 3 + 1\n",
        "\n",
        "def dgdx(x) -> float:\n",
        "    return (x[0] + 1) / 2\n",
        "\n",
        "def dgdy(x) -> float:\n",
        "    return 4 * (2 * x[1] - 1) / 3\n",
        "\n",
        "def np_g(x, y):\n",
        "    return (x + 1) ** 2 / 4 + (2 * y - 1) ** 2 / 3 + 1\n",
        "\n",
        "def grad_g(x):\n",
        "    return (dgdx(x), dgdy(x))"
      ],
      "metadata": {
        "id": "rsSzQMBH0JM7"
      },
      "execution_count": null,
      "outputs": []
    },
    {
      "cell_type": "code",
      "source": [
        "def h(x) -> float:\n",
        "    return x[0] ** 2 + x[1] ** 3 * x[0]\n",
        "\n",
        "def dhdx(x) -> float:\n",
        "    return 2 * x[0] + x[1] ** 3\n",
        "def dhdy(x) -> float:\n",
        "    return 3 * x[1] ** 2 * x[0]\n",
        "\n",
        "def np_h(x, y):\n",
        "    return x ** 2 + y ** 3 * x\n",
        "\n",
        "def grad_h(x):\n",
        "    return (dhdx(x), dhdy(x))"
      ],
      "metadata": {
        "id": "-UUhwOg7Bq29"
      },
      "execution_count": null,
      "outputs": []
    },
    {
      "cell_type": "code",
      "source": [
        "def r(x) -> float:\n",
        "    print(((1 - x[0]) ** 2) + 100 * ((x[1] - x[0] ** 2) ** 2))\n",
        "    return (1 - x[0]) ** 2 + 100 * ((x[1] - x[0] ** 2) ** 2)\n",
        "\n",
        "def drdx(x) -> float:\n",
        "    return -2 + 2 * x[0] - 400 * x[0] * x[1] + 400 * x[0] ** 3\n",
        "\n",
        "def drdy(x) -> float:\n",
        "    return 200 * (x[1] - x[0] ** 2)\n",
        "\n",
        "def grad_r(x):\n",
        "    return (drdx(x), drdy(x))\n",
        "\n",
        "def np_r(x, y):\n",
        "    return (1 - x) ** 2 + 100 * (y - x ** 2) ** 2"
      ],
      "metadata": {
        "id": "kYG4kO3PyYr-"
      },
      "execution_count": null,
      "outputs": []
    },
    {
      "cell_type": "markdown",
      "source": [
        "#Постоянный шаг"
      ],
      "metadata": {
        "id": "lZmZHIBGzwBt"
      }
    },
    {
      "cell_type": "code",
      "source": [
        "def grad_search_const(f, dfdx, dfdy, start, rate, p):\n",
        "    X = [start] #последовательность точек\n",
        "    k = 0 #номер шага/число итераций\n",
        "    learning_rate = rate\n",
        "    eps = 10 ** (-p)\n",
        "    while True:\n",
        "\n",
        "        x_k = X[k-1][0] - learning_rate * (dfdx(X[k-1]))\n",
        "        y_k = X[k-1][1] - learning_rate * (dfdy(X[k-1]))\n",
        "        X.append((x_k, y_k))\n",
        "        if grad_stop(X[k], X[k-1], f(X[k]), f(X[k-1]), eps, p):\n",
        "            break\n",
        "        k += 1\n",
        "    x = [X[i][0] for i in range(k+1)]\n",
        "    y = [X[i][1] for i in range(k+1)]\n",
        "    z = [f(X[i]) for i in range(k+1)]\n",
        "\n",
        "    print(k)\n",
        "    print(x[-1],y[-1],z[-1])\n",
        "    return x, y, z"
      ],
      "metadata": {
        "id": "lVqtOw3k-iwL"
      },
      "execution_count": null,
      "outputs": []
    },
    {
      "cell_type": "code",
      "source": [
        "X = 15\n",
        "N = 1000\n",
        "u = np.linspace(-X, X, N)\n",
        "np_x, np_y = np.meshgrid(u, u)\n",
        "np_z = np_h(np_x, np_y)\n",
        "plt.figure(figsize=(10,6))\n",
        "plt.contour(np_x, np_y, np_z, 40)\n",
        "\n",
        "for start in [(10, 10), (-10, -4), (5, -14), (-5, 4)]:\n",
        "    x, y, z = grad_search_const(h, dhdx, dhdy, start, 5, 3)\n",
        "\n",
        "    plt.plot(x, y)\n",
        "    plt.scatter(x, y, color='orange')\n",
        "\n",
        "plt.show()"
      ],
      "metadata": {
        "colab": {
          "base_uri": "https://localhost:8080/",
          "height": 513
        },
        "id": "BMMxKUVSBQ4B",
        "outputId": "f90f9293-005a-4dc1-c4a5-90ea589a1c38"
      },
      "execution_count": null,
      "outputs": [
        {
          "output_type": "stream",
          "name": "stdout",
          "text": [
            "2\n",
            "-5090 -14990 17144415425818100\n",
            "2\n",
            "410 2396 5639548173860\n",
            "2\n",
            "13675 -14714 -43563181368248575\n",
            "2\n",
            "-275 1204 -479967781975\n"
          ]
        },
        {
          "output_type": "display_data",
          "data": {
            "text/plain": [
              "<Figure size 720x432 with 1 Axes>"
            ],
            "image/png": "[encoded data removed]"
          },
          "metadata": {
            "needs_background": "light"
          }
        }
      ]
    },
    {
      "cell_type": "code",
      "source": [
        "X = 15\n",
        "N = 1000\n",
        "u = np.linspace(-X, X, N)\n",
        "np_x, np_y = np.meshgrid(u, u)\n",
        "np_z = np_g(np_x, np_y)\n",
        "plt.figure(figsize=(10,6))\n",
        "plt.contour(np_x, np_y, np_z, 40)\n",
        "\n",
        "for start in [(10, 10), (-10, -4), (5, -14), (-5, 4)]:\n",
        "    x, y, z = grad_search_const(g, dgdx, dgdy, start, 0.05, 3)\n",
        "\n",
        "    plt.plot(x, y)\n",
        "    plt.scatter(x, y, color='orange')\n",
        "\n",
        "plt.show()"
      ],
      "metadata": {
        "id": "BjrpxE5gBvrm"
      },
      "execution_count": null,
      "outputs": []
    },
    {
      "cell_type": "code",
      "source": [
        "X = 15\n",
        "N = 1000\n",
        "u = np.linspace(-X, X, N)\n",
        "np_x, np_y = np.meshgrid(u, u)\n",
        "np_z = np_h(np_x, np_y)\n",
        "plt.figure(figsize=(10,6))\n",
        "plt.contour(np_x, np_y, np_z, 40)\n",
        "\n",
        "for start in [(10, 10), (-10, -4), (5, -14), (-5, 4)]:\n",
        "    x, y, z = grad_search_const(h, dhdx, dhdy, start, 0.05, 3)\n",
        "\n",
        "    plt.plot(x, y)\n",
        "    plt.scatter(x, y, color='orange')\n",
        "\n",
        "plt.show()"
      ],
      "metadata": {
        "id": "8_Go0PlkCB1h"
      },
      "execution_count": null,
      "outputs": []
    },
    {
      "cell_type": "code",
      "source": [
        "X = 3\n",
        "N = 1000\n",
        "u = np.linspace(-X, X, N)\n",
        "np_x, np_y = np.meshgrid(u, u)\n",
        "np_z = np_r(np_x, np_y)\n",
        "plt.figure(figsize=(10,6))\n",
        "plt.contour(np_x, np_y, np_z, 40)\n",
        "\n",
        "for start in [(1, 2)]:\n",
        "    x, y, z = grad_search_const(r, drdx, drdy, start, 0.002, 3)\n",
        "\n",
        "    plt.plot(x, y)\n",
        "    plt.scatter(x, y, color='orange')\n",
        "\n",
        "plt.show()"
      ],
      "metadata": {
        "id": "fFeIGbeSzc7S"
      },
      "execution_count": null,
      "outputs": []
    },
    {
      "cell_type": "markdown",
      "source": [
        "#Дробление"
      ],
      "metadata": {
        "id": "6Hu7wT1Zzz9p"
      }
    },
    {
      "cell_type": "code",
      "source": [
        "def rate_k_1(x):\n",
        "    return 0.5 - np.arctan(x - np.pi) / np.pi\n",
        "\n",
        "def rate_k_2(x):\n",
        "    return 1 / (x + 1)\n",
        "\n",
        "def grad_search_split(f, dfdx, dfdy, start, p, rate_k):\n",
        "    X = [start] #последовательность точек\n",
        "    k = 1 #номер шага/число итераций\n",
        "    eps = 10 ** (-p)\n",
        "\n",
        "    while True:\n",
        "        learning_rate = rate_k(k)\n",
        "        x_k = X[k-1][0] - learning_rate * (dfdx(X[k-1]))\n",
        "        y_k = X[k-1][1] - learning_rate * (dfdy(X[k-1]))\n",
        "        X.append((x_k, y_k))\n",
        "        if grad_stop(X[k], X[k-1], f(X[k]), f(X[k-1]), eps, p):\n",
        "            break\n",
        "        k += 1\n",
        "    x = [X[i][0] for i in range(k+1)]\n",
        "    y = [X[i][1] for i in range(k+1)]\n",
        "    z = [f(X[i]) for i in range(k+1)]\n",
        "\n",
        "    print(k)\n",
        "    print(x[-1],y[-1],z[-1])\n",
        "    return x, y, z"
      ],
      "metadata": {
        "id": "Msm4MqPx44wz"
      },
      "execution_count": null,
      "outputs": []
    },
    {
      "cell_type": "code",
      "source": [
        "X = 15\n",
        "N = 1000\n",
        "u = np.linspace(-X, X, N)\n",
        "np_x, np_y = np.meshgrid(u, u)\n",
        "np_z = np_h(np_x, np_y)\n",
        "plt.figure(figsize=(10,6))\n",
        "plt.contour(np_x, np_y, np_z, 40)\n",
        "\n",
        "for start in [(1,1)]:\n",
        "    x, y, z = grad_search_split(h, dfdx, dfdy, start, 4, rate_k_2)\n",
        "\n",
        "    plt.plot(x, y)\n",
        "    plt.scatter(x, y, color='orange')\n",
        "\n",
        "plt.show()"
      ],
      "metadata": {
        "id": "1n4BmGBlXZaf"
      },
      "execution_count": null,
      "outputs": []
    },
    {
      "cell_type": "code",
      "source": [
        "X = 15\n",
        "N = 1000\n",
        "u = np.linspace(-X, X, N)\n",
        "np_x, np_y = np.meshgrid(u, u)\n",
        "np_z = np_g(np_x, np_y)\n",
        "plt.figure(figsize=(10,6))\n",
        "plt.contour(np_x, np_y, np_z, 40)\n",
        "\n",
        "for start in [(10, 10), (-10, -4), (5, -14), (-5, 4)]:\n",
        "    x, y, z = grad_search_split(g, dgdx, dgdy, start, 4, rate_k_2)\n",
        "\n",
        "    plt.plot(x, y)\n",
        "    plt.scatter(x, y, color='orange')\n",
        "\n",
        "plt.show()"
      ],
      "metadata": {
        "id": "-9UEoKKFCXAk"
      },
      "execution_count": null,
      "outputs": []
    },
    {
      "cell_type": "code",
      "source": [
        "X = 15\n",
        "N = 1000\n",
        "u = np.linspace(-X, X, N)\n",
        "np_x, np_y = np.meshgrid(u, u)\n",
        "np_z = np_h(np_x, np_y)\n",
        "plt.figure(figsize=(10,6))\n",
        "plt.contour(np_x, np_y, np_z, 40)\n",
        "\n",
        "for start in [(10, 10), (-10, -4), (5, -14), (-5, 4)]:\n",
        "    x, y, z = grad_search_split(h, dhdx, dhdy, start, 4, rate_k_2)\n",
        "\n",
        "    plt.plot(x, y)\n",
        "    plt.scatter(x, y, color='orange')\n",
        "\n",
        "plt.show()"
      ],
      "metadata": {
        "id": "IMuDq4rxCibi"
      },
      "execution_count": null,
      "outputs": []
    },
    {
      "cell_type": "markdown",
      "source": [
        "#Золотое сечение"
      ],
      "metadata": {
        "id": "sdmH5jf9z3YQ"
      }
    },
    {
      "cell_type": "code",
      "source": [
        "def find_best_rate_golden(f, dfdx, dfdy, point, rate):\n",
        "    new_point = (point[0] - rate * (dfdx(point)),\n",
        "                 point[1] - rate * (dfdy(point)))\n",
        "    while f(new_point) > f(point):\n",
        "        rate *= (3 - 5**0.5) / 2\n",
        "        new_point = (point[0] - rate * (dfdx(point)),\n",
        "                     point[1] - rate * (dfdy(point)))\n",
        "    \n",
        "    #print(rate)\n",
        "    return rate\n",
        "\n",
        "def goldenRatioMethod(f, dfdx, dfdy, point, _rate):\n",
        "    a, b = 0, _rate\n",
        "    fi = (3 - 5 ** 0.5) / 2\n",
        "    k = 0\n",
        "    p = 3\n",
        "    e = 10 ** (-p)\n",
        "    A = [a]\n",
        "    B = [b]\n",
        "    Y = [A[k] + fi * (B[k] - A[k])]\n",
        "    Z = [A[k] + B[k] - Y[k]]\n",
        "\n",
        "    while True:\n",
        "        point_y = (point[0] - Y[k] * (dfdx(point)),\n",
        "                   point[1] - Y[k] * (dfdy(point)))\n",
        "        f_y_k = f(point_y)\n",
        "        point_z = (point[0] - Z[k] * (dfdx(point)),\n",
        "                   point[1] - Z[k] * (dfdy(point)))\n",
        "        f_z_k = f(point_z)\n",
        "        if f_y_k <= f_z_k:\n",
        "            A.append(A[k])\n",
        "            B.append(Z[k])\n",
        "            Y.append(A[k+1] + B[k+1] - Y[k])\n",
        "            Z.append(Y[k])\n",
        "        elif f_y_k > f_z_k:\n",
        "            A.append(Y[k])\n",
        "            B.append(B[k])\n",
        "            Y.append(Z[k])\n",
        "            Z.append(A[k+1] + B[k+1] - Z[k])\n",
        "        if round(abs(A[k] - B[k]), p+1) <= e or round(dist(point_y, point_z), p+1) <= e:\n",
        "            break\n",
        "        k += 1\n",
        "\n",
        "    rate = (A[k] + B[k]) / 2\n",
        "\n",
        "    return rate\n",
        "\n",
        "def golden_grad_search(f, dfdx, dfdy, point, p):\n",
        "    _rate = 10\n",
        "    eps = 10 ** (-p)\n",
        "    points = [point]\n",
        "    k = 0\n",
        "    while True:\n",
        "        rate = find_best_rate_golden(f, dfdx, dfdy, points[k], _rate)\n",
        "        new_point = (points[k][0] - rate * (dfdx(points[k])),\n",
        "                     points[k][1] - rate * (dfdy(points[k])))\n",
        "        \n",
        "        points.append(new_point)\n",
        "        k += 1\n",
        "\n",
        "        if grad_stop(points[k], points[k-1], f(points[k]), f(points[k-1]), eps, p) or k == 1000:\n",
        "            break\n",
        "    x = [points[i][0] for i in range(k+1)]\n",
        "    y = [points[i][1] for i in range(k+1)]\n",
        "    z = [f(points[i]) for i in range(k+1)]\n",
        "\n",
        "    print(k)\n",
        "    print(x[-1],y[-1],z[-1])\n",
        "    return x, y, z"
      ],
      "metadata": {
        "id": "Bxw5mX666p-x"
      },
      "execution_count": null,
      "outputs": []
    },
    {
      "cell_type": "code",
      "source": [
        "X = 15\n",
        "N = 1000\n",
        "u = np.linspace(-X, X, N)\n",
        "np_x, np_y = np.meshgrid(u, u)\n",
        "np_z = np_f(np_x, np_y)\n",
        "plt.figure(figsize=(10,6))\n",
        "plt.contour(np_x, np_y, np_z, 40)\n",
        "\n",
        "for start in [(10, 10), (-10, -4), (5, -14), (-5, 4)]:\n",
        "    x, y, z = golden_grad_search(f, dfdx, dfdy, start, 3)\n",
        "\n",
        "    plt.plot(x, y)\n",
        "    plt.scatter(x, y, color='orange')\n",
        "\n",
        "plt.show()"
      ],
      "metadata": {
        "id": "SOg7nn-TYH1w"
      },
      "execution_count": null,
      "outputs": []
    },
    {
      "cell_type": "code",
      "source": [
        "X = 15\n",
        "N = 1000\n",
        "u = np.linspace(-X, X, N)\n",
        "np_x, np_y = np.meshgrid(u, u)\n",
        "np_z = np_g(np_x, np_y)\n",
        "plt.figure(figsize=(10,6))\n",
        "plt.contour(np_x, np_y, np_z, 40)\n",
        "\n",
        "for start in [(10, 10), (-10, -4), (5, -14), (-5, 4)]:\n",
        "    x, y, z = golden_grad_search(g, dgdx, dgdy, start, 3)\n",
        "\n",
        "    plt.plot(x, y)\n",
        "    plt.scatter(x, y, color='orange')\n",
        "\n",
        "plt.show()"
      ],
      "metadata": {
        "id": "g9jyNEdyDAmv"
      },
      "execution_count": null,
      "outputs": []
    },
    {
      "cell_type": "code",
      "source": [
        "X = 15\n",
        "N = 1000\n",
        "u = np.linspace(-X, X, N)\n",
        "np_x, np_y = np.meshgrid(u, u)\n",
        "np_z = np_h(np_x, np_y)\n",
        "plt.figure(figsize=(10,6))\n",
        "plt.contour(np_x, np_y, np_z, 40)\n",
        "\n",
        "for start in [(10, 10), (-10, -4), (5, -14), (-5, 4)]:\n",
        "    x, y, z = golden_grad_search(h, dhdx, dhdy, start, 3)\n",
        "\n",
        "    plt.plot(x, y)\n",
        "    plt.scatter(x, y, color='orange')\n",
        "\n",
        "plt.show()"
      ],
      "metadata": {
        "id": "8-vQW8RSDEGK"
      },
      "execution_count": null,
      "outputs": []
    },
    {
      "cell_type": "markdown",
      "source": [
        "#Фибоначчи"
      ],
      "metadata": {
        "id": "TNOt5y-Oz7Yp"
      }
    },
    {
      "cell_type": "code",
      "source": [
        "def createFib(a, b, e):\n",
        "    k = int((b - a) / e)\n",
        "    if k == 1:\n",
        "        return [1]\n",
        "    a = [1, 1]\n",
        "\n",
        "    tmp = [1, 1]\n",
        "    while k >= a[len(a)-1]:\n",
        "        tmp[0], tmp[1] = tmp[1], tmp[0] + tmp[1]\n",
        "        a.append(tmp[1])\n",
        "    return a\n",
        "\n",
        "def find_best_rate_fib(f, dfdx, dfdy, point, rate, p):\n",
        "    F = createFib(0, rate, 10**(-p))\n",
        "    n = len(F) - 1\n",
        "    new_point = (point[0] - rate * (dfdx(point)),\n",
        "                 point[1] - rate * (dfdy(point)))\n",
        "    while f(new_point) > f(point):\n",
        "        rate *= F[n - 2] / F[n]\n",
        "        new_point = (point[0] - rate * (dfdx(point)),\n",
        "                     point[1] - rate * (dfdy(point)))\n",
        "    return rate\n",
        "\n",
        "def FibonacciMethod(f, dfdx, dfdy, point, rate, p):\n",
        "    a, b = 0, 100\n",
        "    e = 10 ** (-p)\n",
        "    A = [a]\n",
        "    B = [b]\n",
        "    k = 0\n",
        "    F = createFib(a, b, e)\n",
        "    n = len(F)-1\n",
        "    Y = [A[k] + F[n - 2] / F[n] * (B[k] - A[k])]\n",
        "    Z = [A[k] + F[n - 1] / F[n] * (B[k] - A[k])]\n",
        "\n",
        "    while True:\n",
        "        point_y = (point[0] - Y[k] * (dfdx(point)),\n",
        "                   point[1] - Y[k] * (dfdy(point)))\n",
        "        f_y_k = f(point_y)\n",
        "        point_z = (point[0] - Z[k] * (dfdx(point)),\n",
        "                   point[1] - Z[k] * (dfdy(point)))\n",
        "        f_y_k = f(point_y)\n",
        "        f_z_k = f(point_z)\n",
        "        if f_y_k <= f_z_k:\n",
        "            A.append(A[k])\n",
        "            B.append(Z[k])\n",
        "            Z.append(Y[k])\n",
        "            Y.append(A[k+1] + F[n-k-3]/F[n-k-1]*(B[k+1] - A[k+1]))\n",
        "        elif f_y_k > f_z_k:\n",
        "            A.append(Y[k])\n",
        "            B.append(B[k])\n",
        "            Y.append(Z[k])\n",
        "            Z.append(A[k+1] + F[n-k-2]/F[n-k-1]*(B[k+1] - A[k+1]))\n",
        "\n",
        "        if k != n - 3:\n",
        "            k += 1\n",
        "            continue\n",
        "        elif k == n - 3:\n",
        "            Y[n-2] = Y[n-3]\n",
        "            Z[n-2] = Y[n-2] + e\n",
        "            point_y = (point[0] - Y[n-2] * (dfdx(point)),\n",
        "                       point[1] - Y[n-2] * (dfdy(point)))\n",
        "            point_z = (point[0] - Z[n-2] * (dfdx(point)),\n",
        "                       point[1] - Z[n-2] * (dfdy(point)))\n",
        "\n",
        "            f_y = f(point_y)\n",
        "            f_z = f(point_z)\n",
        "            if f_y_k <= f_z_k:\n",
        "                A[n-2] = A[n-3]\n",
        "                B[n-2] = Z[n-2]\n",
        "            elif f_y_k > f_z_k:\n",
        "                A[n-2] = Y[n-2]\n",
        "                B[n-2] = B[n-3]\n",
        "            break\n",
        "\n",
        "    rate= (A[n-2] + B[n-2]) / 2\n",
        "\n",
        "    return rate\n",
        "\n",
        "\n",
        "def fib_grad_search(f, dfdx, dfdy, point, p):\n",
        "    _rate = 100\n",
        "    eps = 10 ** (-p)\n",
        "    points = [point]\n",
        "    k = 0\n",
        "    while True:\n",
        "        rate = FibonacciMethod(f, dfdx, dfdy, points[k], _rate, p)\n",
        "        new_point = (points[k][0] - rate * (dfdx(points[k])),\n",
        "                     points[k][1] - rate * (dfdy(points[k])))\n",
        "        \n",
        "        points.append(new_point)\n",
        "        k += 1\n",
        "\n",
        "        if grad_stop(points[k], points[k-1], f(points[k]), f(points[k-1]), eps, p) or k == 100:\n",
        "            break\n",
        "    x = [points[i][0] for i in range(k+1)]\n",
        "    y = [points[i][1] for i in range(k+1)]\n",
        "    z = [f(points[i]) for i in range(k+1)]\n",
        "\n",
        "    print(k)\n",
        "    print(x[-1],y[-1],z[-1])\n",
        "    return x, y, z"
      ],
      "metadata": {
        "id": "FLz0n1HY-Uxc"
      },
      "execution_count": null,
      "outputs": []
    },
    {
      "cell_type": "code",
      "source": [
        "X = 15\n",
        "N = 1000\n",
        "u = np.linspace(-X, X, N)\n",
        "np_x, np_y = np.meshgrid(u, u)\n",
        "np_z = np_f(np_x, np_y)\n",
        "plt.figure(figsize=(10,6))\n",
        "plt.contour(np_x, np_y, np_z, 40)\n",
        "\n",
        "for start in [(10, 10), (-10, -4), (5, -14), (-5, 4)]:\n",
        "    x, y, z = fib_grad_search(f, dfdx, dfdy, start, 3)\n",
        "\n",
        "    plt.plot(x, y)\n",
        "    plt.scatter(x, y, color='orange')\n",
        "\n",
        "plt.show()"
      ],
      "metadata": {
        "id": "ebvwMSBVGlMB"
      },
      "execution_count": null,
      "outputs": []
    },
    {
      "cell_type": "code",
      "source": [
        "X = 15\n",
        "N = 1000\n",
        "u = np.linspace(-X, X, N)\n",
        "np_x, np_y = np.meshgrid(u, u)\n",
        "np_z = np_g(np_x, np_y)\n",
        "plt.figure(figsize=(10,6))\n",
        "plt.contour(np_x, np_y, np_z, 40)\n",
        "\n",
        "for start in [(10, 10), (-10, -4), (5, -14), (-5, 4)]:\n",
        "    x, y, z = fib_grad_search(g, dgdx, dgdy, start, 3)\n",
        "\n",
        "    plt.plot(x, y)\n",
        "    plt.scatter(x, y, color='orange')\n",
        "\n",
        "plt.show()"
      ],
      "metadata": {
        "id": "1mdhiMn1CrPp"
      },
      "execution_count": null,
      "outputs": []
    },
    {
      "cell_type": "code",
      "source": [
        "def h(x) -> float:\n",
        "    return x[0] ** 2 + x[1] ** 3 * x[0]\n",
        "\n",
        "def dhdx(x) -> float:\n",
        "    return 2 * x[0] + x[1] ** 3\n",
        "def dhdy(x) -> float:\n",
        "    return 3 * x[1] ** 2 * x[0]\n",
        "\n",
        "def np_h(x, y):\n",
        "    return x ** 2 + y ** 3 * x\n",
        "\n",
        "def grad_h(x):\n",
        "    return (dhdx(x), dhdy(x))"
      ],
      "metadata": {
        "id": "2UbtLGHYtPoF"
      },
      "execution_count": null,
      "outputs": []
    },
    {
      "cell_type": "code",
      "source": [
        "X = 15\n",
        "N = 1000\n",
        "u = np.linspace(-X, X, N)\n",
        "np_x, np_y = np.meshgrid(u, u)\n",
        "np_z = np_h(np_x, np_y)\n",
        "plt.figure(figsize=(10,6))\n",
        "plt.contour(np_x, np_y, np_z, 40)\n",
        "\n",
        "for start in [(1,1)]:\n",
        "    x, y, z = fib_grad_search(h, dhdx, dhdy, start, 3)\n",
        "\n",
        "    plt.plot(x, y)\n",
        "    plt.scatter(x, y, color='orange')\n",
        "\n",
        "plt.show()"
      ],
      "metadata": {
        "id": "3ovRNbl-Cu1Z"
      },
      "execution_count": null,
      "outputs": []
    },
    {
      "cell_type": "markdown",
      "source": [
        "#Флетчер-Ривс"
      ],
      "metadata": {
        "id": "qWskwlwLz_aK"
      }
    },
    {
      "cell_type": "code",
      "source": [
        "def fibonacci_method_for_FR(f, dfdx, dfdy, X, D, rate, p):\n",
        "    a, b = 0, 100\n",
        "    e = 10 ** (-p)\n",
        "    A = [a]\n",
        "    B = [b]\n",
        "    k = 0\n",
        "    F = createFib(a, b, e)\n",
        "    n = len(F)-1\n",
        "    Y = [A[k] + F[n - 2] / F[n] * (B[k] - A[k])]\n",
        "    Z = [A[k] + F[n - 1] / F[n] * (B[k] - A[k])]\n",
        "\n",
        "    while True:\n",
        "        #print(X, D, len(Y), k)\n",
        "        point_y = (X[0] + Y[k] * (dfdx(D)),\n",
        "                   X[1] + Y[k] * (dfdy(D)))\n",
        "        f_y_k = f(point_y)\n",
        "        point_z = (X[0] + Z[k] * (dfdx(D)),\n",
        "                   X[1] + Z[k] * (dfdy(D)))\n",
        "        f_y_k = f(point_y)\n",
        "        f_z_k = f(point_z)\n",
        "        if f_y_k <= f_z_k:\n",
        "            A.append(A[k])\n",
        "            B.append(Z[k])\n",
        "            Z.append(Y[k])\n",
        "            Y.append(A[k+1] + F[n-k-3]/F[n-k-1]*(B[k+1] - A[k+1]))\n",
        "        elif f_y_k > f_z_k:\n",
        "            A.append(Y[k])\n",
        "            B.append(B[k])\n",
        "            Y.append(Z[k])\n",
        "            Z.append(A[k+1] + F[n-k-2]/F[n-k-1]*(B[k+1] - A[k+1]))\n",
        "\n",
        "        if k != n - 3:\n",
        "            k += 1\n",
        "            continue\n",
        "        elif k == n - 3:\n",
        "            Y[n-2] = Y[n-3]\n",
        "            Z[n-2] = Y[n-2] + e\n",
        "            point_y = (X[0] + Y[n-2] * (dfdx(D)),\n",
        "                       X[1] + Y[n-2] * (dfdy(D)))\n",
        "            point_z = (X[0] + Z[n-2] * (dfdx(D)),\n",
        "                       X[1] + Z[n-2] * (dfdy(D)))\n",
        "\n",
        "            f_y = f(point_y)\n",
        "            f_z = f(point_z)\n",
        "            if f_y_k <= f_z_k:\n",
        "                A[n-2] = A[n-3]\n",
        "                B[n-2] = Z[n-2]\n",
        "            elif f_y_k > f_z_k:\n",
        "                A[n-2] = Y[n-2]\n",
        "                B[n-2] = B[n-3]\n",
        "            break\n",
        "\n",
        "    rate= (A[n-2] + B[n-2]) / 2\n",
        "\n",
        "    return rate\n",
        "\n",
        "def Fletcher_Rives(f, dfdx, dfdy, point, p, grad_f):\n",
        "    eps = 10 ** (-p)\n",
        "    _rate = 100\n",
        "    points = [point]\n",
        "    k = 0\n",
        "\n",
        "    D = [-1 * np.array(grad_f(points[k]))]\n",
        "    B = [0]\n",
        "    while True:\n",
        "        if k >= 1:\n",
        "            p_1 = grad_f(points[k])\n",
        "            p_2 = grad_f(points[k-1])\n",
        "            B.append(scalar(p_1,p_1) / (scalar(p_2,p_2) + 1e-9))\n",
        "        D.append(-1 * np.array(grad_f(points[k])) + B[k-1] * D[k-1])\n",
        "        rate = fibonacci_method_for_FR(f, dfdx, dfdy, points[k], D[k], _rate, p)\n",
        "\n",
        "        new_point = (points[k][0] + rate * (dfdx(D[k])),\n",
        "                     points[k][1] + rate * (dfdy(D[k])))\n",
        "        points.append(new_point)\n",
        "\n",
        "        if grad_stop(points[k], points[k-1], f(points[k]), f(points[k-1]), eps, p) or k == 1000:\n",
        "            break\n",
        "\n",
        "        k += 1\n",
        "    x = [points[i][0] for i in range(k+1)]\n",
        "    y = [points[i][1] for i in range(k+1)]\n",
        "    z = [f(points[i]) for i in range(k+1)]\n",
        "\n",
        "    print(k-1)\n",
        "    print(x[-1],y[-1],z[-1])\n",
        "    return x, y, z\n"
      ],
      "metadata": {
        "id": "ADZl4O5zcTmX"
      },
      "execution_count": null,
      "outputs": []
    },
    {
      "cell_type": "code",
      "source": [
        "X = 15\n",
        "N = 1000\n",
        "u = np.linspace(-X, X, N)\n",
        "np_x, np_y = np.meshgrid(u, u)\n",
        "np_z = np_f(np_x, np_y)\n",
        "plt.figure(figsize=(10,6))\n",
        "plt.contour(np_x, np_y, np_z, 40)\n",
        "\n",
        "for start in [(10, 10), (-10, -4), (5, -14), (-5, 4)]:\n",
        "    x, y, z = Fletcher_Rives(f, dfdx, dfdy, start, 3, grad_f)\n",
        "\n",
        "    plt.plot(x, y)\n",
        "    plt.scatter(x, y, color='orange')\n",
        "\n",
        "plt.show()"
      ],
      "metadata": {
        "id": "GvGdzFqZu7pM"
      },
      "execution_count": null,
      "outputs": []
    },
    {
      "cell_type": "code",
      "source": [
        "X = 15\n",
        "N = 1000\n",
        "u = np.linspace(-X, X, N)\n",
        "np_x, np_y = np.meshgrid(u, u)\n",
        "np_z = np_g(np_x, np_y)\n",
        "plt.figure(figsize=(10,6))\n",
        "plt.contour(np_x, np_y, np_z, 40)\n",
        "\n",
        "for start in [(10, 10), (-10, -4), (5, -14), (-5, 4)]:\n",
        "    x, y, z = Fletcher_Rives(g, dgdx, dgdy, start, 3, grad_g)\n",
        "\n",
        "    plt.plot(x, y)\n",
        "    plt.scatter(x, y, color='orange')\n",
        "\n",
        "plt.show()"
      ],
      "metadata": {
        "id": "nBH52ZO5Da_w"
      },
      "execution_count": null,
      "outputs": []
    },
    {
      "cell_type": "code",
      "source": [
        "X = 15\n",
        "N = 1000\n",
        "u = np.linspace(-X, X, N)\n",
        "np_x, np_y = np.meshgrid(u, u)\n",
        "np_z = np_h(np_x, np_y)\n",
        "plt.figure(figsize=(10,6))\n",
        "plt.contour(np_x, np_y, np_z, 40)\n",
        "\n",
        "for start in [(10, 10), (-10, -4), (5, -14), (-5, 4)]:\n",
        "    x, y, z = Fletcher_Rives(h, dhdx, dhdy, start, 3, grad_h)\n",
        "\n",
        "    plt.plot(x, y)\n",
        "    plt.scatter(x, y, color='orange')\n",
        "\n",
        "plt.show()"
      ],
      "metadata": {
        "id": "pH2OE7ZQDfnB"
      },
      "execution_count": null,
      "outputs": []
    },
    {
      "cell_type": "code",
      "source": [
        ""
      ],
      "metadata": {
        "id": "gLNXgFVsP9Cb"
      },
      "execution_count": null,
      "outputs": []
    },
    {
      "cell_type": "code",
      "source": [
        ""
      ],
      "metadata": {
        "id": "UaOuGta8F4sP"
      },
      "execution_count": null,
      "outputs": []
    }
  ]
}