{
  "nbformat": 4,
  "nbformat_minor": 0,
  "metadata": {
    "colab": {
      "name": "AppMath4.ipynb",
      "provenance": [],
      "collapsed_sections": [
        "BOt7s8ANK8iS",
        "1eBP8eYTK3qZ"
      ]
    },
    "kernelspec": {
      "name": "python3",
      "display_name": "Python 3"
    },
    "language_info": {
      "name": "python"
    }
  },
  "cells": [
    {
      "cell_type": "markdown",
      "source": [
        "#Лабораторная работа #4\n",
        "\n",
        "Реализовать и протестировать на разных матрицах метод вращений Якоби для поиска собственных значений"
      ],
      "metadata": {
        "id": "mB1bk7xipNqX"
      }
    },
    {
      "cell_type": "markdown",
      "source": [
        "#Sandbox"
      ],
      "metadata": {
        "id": "BOt7s8ANK8iS"
      }
    },
    {
      "cell_type": "code",
      "source": [
        "import numpy as np\n",
        "import math as mt"
      ],
      "metadata": {
        "id": "JYsEICqUwUIv"
      },
      "execution_count": null,
      "outputs": []
    },
    {
      "cell_type": "code",
      "source": [
        "def rotate(A, P, k, l):\n",
        "    n = len(A)\n",
        "    d = A[l, l] - A[k, k]\n",
        "\n",
        "    if abs(A[k, l]) < abs(d) * 1.0e-36:\n",
        "        t = A[k, l] / d\n",
        "    else:\n",
        "        phi = d / (2* A[k, l])\n",
        "        t = 1/ (abs(phi) + mt.sqrt(1 + phi ** 2))\n",
        "        if phi < 0.:\n",
        "            t = -t\n",
        "    c = 1 / mt.sqrt(1 + t ** 2)\n",
        "    s = t * c\n",
        "    tau = s / (1 + c)\n",
        "\n",
        "    tt = A[k, l]\n",
        "    A[k, l] = 0.\n",
        "    A[k, k] = A[k, k] - t*tt\n",
        "    A[l, l] = A[l, l] + t*tt\n",
        "     \n",
        "    for i in range(k):\n",
        "        tt = A[i, k]\n",
        "        A[i, k] = tt - s * (A[i, l] + tau * tt)\n",
        "        A[i, l] = A[i, l] + s * (tt - tau * A[i, l])\n",
        "\n",
        "    for i in range(k + 1, l):\n",
        "        tt = A[k, i]\n",
        "        A[k, i] = tt - s * (A[i, l] + tau * A[k, i])\n",
        "        A[i, l] = A[i, l] + s * (tt - tau * A[i, l])\n",
        "\n",
        "    for i in range(l + 1, n):\n",
        "        tt = A[k, i]\n",
        "        A[k, i] = tt - s * (A[l, i] + tau * tt)\n",
        "        A[l, i] = A[l, i] + s * (tt - tau * A[l, i])\n",
        "\n",
        "    for i in range(n):\n",
        "        tt = P[i, k]\n",
        "        P[i, k] = tt - s * (P[i, l] + tau * P[i, k])\n",
        "        P[i, l] = P[i, l] + s * (tt - tau * P[i, l])\n",
        "\n",
        "    return A, P\n"
      ],
      "metadata": {
        "id": "HrCzXrq1pgEe"
      },
      "execution_count": null,
      "outputs": []
    },
    {
      "cell_type": "code",
      "source": [
        "def elem_max(A):\n",
        "    n, k, l = len(A), 0, 0\n",
        "    aMax = A[k, l]\n",
        "    for i in range(n-1):\n",
        "        for j in range(i+1, n):\n",
        "            if abs(A[i, j]) >= aMax:\n",
        "                aMax = abs(A[i, j])\n",
        "                k, l = i, j\n",
        "    return aMax, k, l"
      ],
      "metadata": {
        "id": "h15bCmLzxK9B"
      },
      "execution_count": null,
      "outputs": []
    },
    {
      "cell_type": "code",
      "source": [
        "def jacobi(A, tol = 1e-3):\n",
        "    n = len(A)\n",
        "    rotMax = 5 * (n ** 2)\n",
        "    P = np.identity(n)\n",
        "    for i in range(rotMax):\n",
        "        aMax, k, l = elem_max(A)\n",
        "        #print(i, A, \"\\n\", np.diag(A), \"\\n\")\n",
        "        if aMax < tol:\n",
        "            print(f\"Jacobi method converges with {i} iterations\")\n",
        "            return np.diag(A), P\n",
        "        A, P = rotate(A, P, k, l)\n",
        "    print(f\"Jacobi method didn't converge with {rotMax} iterations\")\n",
        "    return None, None"
      ],
      "metadata": {
        "id": "DlZu94epwXvd"
      },
      "execution_count": null,
      "outputs": []
    },
    {
      "cell_type": "code",
      "source": [
        "n = 8\n",
        "A = np.zeros((n, n))\n",
        "\n",
        "for i in range(n):\n",
        "    for j in range(n):\n",
        "        if i < j:\n",
        "            A[i, j] = (i + 1) / (j + 1)\n",
        "        else:\n",
        "            A[i, j] = (j + 1) / (i + 1)\n",
        "lam, x = jacobi(A)\n",
        "lam"
      ],
      "metadata": {
        "colab": {
          "base_uri": "https://localhost:8080/"
        },
        "id": "gtjE6I4iydmm",
        "outputId": "b73b0830-ba61-4204-eabf-57ef53e826a6"
      },
      "execution_count": null,
      "outputs": [
        {
          "output_type": "stream",
          "name": "stdout",
          "text": [
            "Jacobi method converges with 56 iterations\n"
          ]
        },
        {
          "output_type": "execute_result",
          "data": {
            "text/plain": [
              "array([-0.11311388,  1.27638828,  0.28872333,  0.53450768,  0.12605225,\n",
              "        0.18407442,  0.08707598,  4.61629194])"
            ]
          },
          "metadata": {},
          "execution_count": 72
        }
      ]
    },
    {
      "cell_type": "code",
      "source": [
        ""
      ],
      "metadata": {
        "id": "ufTIz_oa9d5R"
      },
      "execution_count": null,
      "outputs": []
    },
    {
      "cell_type": "markdown",
      "source": [
        "#Sandbox"
      ],
      "metadata": {
        "id": "1eBP8eYTK3qZ"
      }
    },
    {
      "cell_type": "code",
      "source": [
        "x = []\n",
        "c = []\n",
        "for n in range(1, 100, 5):\n",
        "    counter = 0\n",
        "    A = generate_hilbert_matrix(n)\n",
        "    a, b, iter = jacobi(A)\n",
        "    c.append(counter)\n",
        "    x.append(iter)"
      ],
      "metadata": {
        "colab": {
          "base_uri": "https://localhost:8080/"
        },
        "id": "qA61fzeK-wd3",
        "outputId": "80f626f6-4834-4d15-c474-1717caddc7a8"
      },
      "execution_count": null,
      "outputs": [
        {
          "output_type": "stream",
          "name": "stdout",
          "text": [
            "Jacobi method converges with 1 iterations\n",
            "Jacobi method converges with 21 iterations\n",
            "Jacobi method converges with 48 iterations\n",
            "Jacobi method converges with 73 iterations\n",
            "Jacobi method converges with 107 iterations\n",
            "Jacobi method converges with 132 iterations\n",
            "Jacobi method converges with 164 iterations\n",
            "Jacobi method converges with 191 iterations\n",
            "Jacobi method converges with 219 iterations\n",
            "Jacobi method converges with 246 iterations\n",
            "Jacobi method converges with 268 iterations\n",
            "Jacobi method converges with 294 iterations\n",
            "Jacobi method converges with 320 iterations\n",
            "Jacobi method converges with 348 iterations\n",
            "Jacobi method converges with 386 iterations\n",
            "Jacobi method converges with 415 iterations\n",
            "Jacobi method converges with 441 iterations\n",
            "Jacobi method converges with 465 iterations\n",
            "Jacobi method converges with 494 iterations\n",
            "Jacobi method converges with 521 iterations\n"
          ]
        }
      ]
    },
    {
      "cell_type": "code",
      "source": [
        "plt.plot(list(range(1, 100, 5)), x)\n",
        "plt.show()\n",
        "plt.plot(list(range(1, 100, 5)), c)\n",
        "plt.show()"
      ],
      "metadata": {
        "colab": {
          "base_uri": "https://localhost:8080/",
          "height": 524
        },
        "id": "V2jMQ0XnGAza",
        "outputId": "d9578db9-b810-47cb-a08e-4ea7f05b70dd"
      },
      "execution_count": null,
      "outputs": [
        {
          "output_type": "display_data",
          "data": {
            "text/plain": [
              "<Figure size 432x288 with 1 Axes>"
            ],
            "image/png": "[encoded data removed]"
          },
          "metadata": {
            "needs_background": "light"
          }
        },
        {
          "output_type": "display_data",
          "data": {
            "text/plain": [
              "<Figure size 432x288 with 1 Axes>"
            ],
            "image/png": "[encoded data removed]"
          },
          "metadata": {
            "needs_background": "light"
          }
        }
      ]
    },
    {
      "cell_type": "markdown",
      "source": [
        "#Generators"
      ],
      "metadata": {
        "id": "YIpPki0Z9ePn"
      }
    },
    {
      "cell_type": "code",
      "source": [
        "import numpy as np\n",
        "import math as mt\n",
        "import os\n",
        "import scipy.sparse\n",
        "import matplotlib.pyplot as plt\n",
        "import random\n",
        "\n",
        "\n",
        "def empty_matrix(n, m, format):\n",
        "    Matrix = scipy.sparse.__dict__[format + \"_matrix\"]\n",
        "    return Matrix((n, m))\n",
        "\n",
        "def identity_matrix(n, format):\n",
        "    return scipy.sparse.identity(n, format=format)\n",
        "\n",
        "def ascending_vector(n):\n",
        "    return np.array(list(range(1, n + 1)))\n",
        "\n",
        "def generate_big_matrix(n, p, format):\n",
        "    return scipy.sparse.random(n, n, p, format=format)\n",
        "\n",
        "def random_vector(n):\n",
        "    return ascending_vector(n)"
      ],
      "metadata": {
        "id": "Spi_amHmztUB"
      },
      "execution_count": null,
      "outputs": []
    },
    {
      "cell_type": "code",
      "source": [
        "def generate_pre_matrix(n):\n",
        "    A = empty_matrix(n, n, \"lil\")\n",
        "    for i in range(n):\n",
        "        for j in range(i, n):\n",
        "            randomized_elem = random.randint(-4, 0)\n",
        "            A[i, j], A[j, i] = randomized_elem, randomized_elem\n",
        "\n",
        "    return A\n",
        "\n",
        "def generate_diagonal_domination_matrix(n, k):\n",
        "    a = generate_pre_matrix(n)\n",
        "    A_k = empty_matrix(n, n, \"lil\")\n",
        "\n",
        "    for i in range(n):\n",
        "        t1 = -sum(a[i, l] for l in range(i))\n",
        "        t2 = -sum(a[i, l] for l in range(i + 1, n))\n",
        "        t = t1 + t2\n",
        "        for j in range(n):\n",
        "            if i != j:\n",
        "                A_k[i, j] = a[i, j]\n",
        "            else:\n",
        "                A_k[i, j] = t + pow(10.0, -k)\n",
        "\n",
        "    return A_k\n",
        "\n",
        "def generate_hilbert_matrix(n):\n",
        "    A_k = empty_matrix(n, n, \"lil\")\n",
        "    for i in range(n):\n",
        "        for j in range(n):\n",
        "            A_k[i, j] = 1 / (i + j + 1.0)\n",
        "\n",
        "    return A_k\n",
        "\n",
        "def generate_lehmer_matrix(n):\n",
        "    A_k = empty_matrix(n, n, \"lil\")\n",
        "    for i in range(1,n+1):\n",
        "        for j in range(1,n+1):\n",
        "            A_k[i-1, j-1] = min(i, j) / max(i, j)\n",
        "\n",
        "    return A_k"
      ],
      "metadata": {
        "id": "-4EhPdzC9nV8"
      },
      "execution_count": null,
      "outputs": []
    },
    {
      "cell_type": "code",
      "source": [
        "def elem_max(A):\n",
        "    global counter\n",
        "    n, k, l = A.shape[0], 0, 1\n",
        "    aMax = 0\n",
        "    for i in range(n-1):\n",
        "        for j in range(i + 1, n):\n",
        "            counter += 1\n",
        "            if abs(A[i, j]) >= aMax:\n",
        "                aMax = abs(A[i, j])\n",
        "                k, l = i, j\n",
        "    return aMax, k, l"
      ],
      "metadata": {
        "id": "O-g3HI6g90qB"
      },
      "execution_count": null,
      "outputs": []
    },
    {
      "cell_type": "code",
      "source": [
        "def rotate(A, P, k, l):\n",
        "    global counter\n",
        "    n = A.shape[0]\n",
        "    d = A[l, l] - A[k, k]\n",
        "\n",
        "    if abs(A[k, l]) < abs(d) * 1.0e-36:\n",
        "        t = A[k, l] / d\n",
        "    else:\n",
        "        phi = d / (2* A[k, l])\n",
        "        t = 1.0 / (abs(phi) + mt.sqrt(1 + phi ** 2))\n",
        "        if phi < 0.:\n",
        "            t = -t\n",
        "    c = 1 / mt.sqrt(1 + t ** 2)\n",
        "    s = t * c\n",
        "    tau = s / (1 + c)\n",
        "\n",
        "    tt = A[k, l]\n",
        "    A[k, l] = 0.0\n",
        "    A[k, k] = A[k, k] - t * tt\n",
        "    A[l, l] = A[l, l] + t * tt\n",
        "     \n",
        "    for i in range(k):\n",
        "        tt = A[i, k]\n",
        "        A[i, k] = tt - s * (A[i, l] + tau * tt)\n",
        "        A[i, l] = A[i, l] + s * (tt - tau * A[i, l])\n",
        "        counter += 1\n",
        "\n",
        "    for i in range(k + 1, l):\n",
        "        tt = A[k, i]\n",
        "        A[k, i] = tt - s * (A[i, l] + tau * A[k, i])\n",
        "        A[i, l] = A[i, l] + s * (tt - tau * A[i, l])\n",
        "        counter += 1\n",
        "\n",
        "    for i in range(l + 1, n):\n",
        "        tt = A[k, i]\n",
        "        A[k, i] = tt - s * (A[l, i] + tau * tt)\n",
        "        A[l, i] = A[l, i] + s * (tt - tau * A[l, i])\n",
        "        counter += 1\n",
        "\n",
        "    for i in range(n):\n",
        "        tt = P[i, k]\n",
        "        P[i, k] = tt - s * (P[i, l] + tau * P[i, k])\n",
        "        P[i, l] = P[i, l] + s * (tt - tau * P[i, l])\n",
        "        counter += 1\n",
        "\n",
        "    return A, P"
      ],
      "metadata": {
        "id": "BM82DEig9nan"
      },
      "execution_count": null,
      "outputs": []
    },
    {
      "cell_type": "code",
      "source": [
        "def jacobi(A, tol = 3):\n",
        "    global counter\n",
        "    n = A.shape[0]\n",
        "    rotMax = 5 * (n ** 2)\n",
        "    P = identity_matrix(n, \"lil\")\n",
        "    for i in range(rotMax):\n",
        "        aMax, k, l = elem_max(A)\n",
        "        counter += 1\n",
        "        if aMax < 10 ** (-tol) or ostanov(A, tol):\n",
        "            print(f\"Jacobi method converges with {i+1} iterations\")\n",
        "            return A, i\n",
        "        A, P = rotate(A, P, k, l)\n",
        "        print_matrix(A, tol)\n",
        "    print(f\"Jacobi method didn't converge with {rotMax} iterations\")\n",
        "    return None, i\n",
        "\n",
        "def print_matrix(A, p):\n",
        "    n = A.shape[0]\n",
        "    for i in range(n):\n",
        "        for j in range(n):\n",
        "            print(str(\"%5.\"+str(p)+\"f\") % A[i, j], end=\" \")\n",
        "        print()"
      ],
      "metadata": {
        "id": "mQDI4b_y9yMM"
      },
      "execution_count": null,
      "outputs": []
    },
    {
      "cell_type": "code",
      "source": [
        "A = empty_matrix(3, 3, \"lil\")\n",
        "A[0, 0], A[0, 1], A[0, 2] = 2, 1, 1\n",
        "A[1, 0], A[1, 1], A[1, 2] = 1, 3, 2\n",
        "A[2, 0], A[2, 1], A[2, 2] = 1, 2, 4\n",
        "counter = 0\n",
        "print(np.linalg.cond(A.toarray()))\n",
        "\n",
        "a, i = jacobi(A)\n",
        "diagonal = a.diagonal()\n",
        "print(max(diagonal)/min(diagonal))\n",
        "print(diagonal)"
      ],
      "metadata": {
        "id": "-Oo33CA2DZ0j"
      },
      "execution_count": null,
      "outputs": []
    },
    {
      "cell_type": "code",
      "source": [
        "def ostanov(A, p):\n",
        "    tmp = 0\n",
        "    n = A.shape[0]\n",
        "    for i in range(n-1):\n",
        "        for j in range(i + 1, n):\n",
        "            tmp += A[i, j] ** 2\n",
        "    print(f\"ostanov? = {round(tmp ** 0.5, p)}\")\n",
        "    return round(tmp ** 0.5, p) <= 10 ** (-p)\n",
        "\n",
        "\n",
        "def jacobi_modern(A, p = 3):\n",
        "    global counter\n",
        "    n = A.shape[0]\n",
        "    rotMax = 10 ** 7\n",
        "\n",
        "    for i in range(rotMax):\n",
        "        U_k = identity_matrix(n, \"lil\")\n",
        "        aMax, k, l = elem_max(A)\n",
        "        if round(aMax, p + 1) <= 10 ** (-p):\n",
        "            print(f\"Jacobi method converges with {i-1} iterations with {n*(n-1)/2} matrix range\")\n",
        "            return A, i\n",
        "\n",
        "        if A[k, k] == A[l, l]:\n",
        "            phi_k = mt.pi / 4\n",
        "        else:\n",
        "            phi_k = 0.5 * mt.atan(2 * A[k, l] / (A[k, k] - A[l, l]))\n",
        "        \n",
        "        U_k[k, k] = mt.cos(phi_k) #round(mt.cos(phi_k), p)#mt.cos(phi_k)\n",
        "        U_k[k, l] = -1.0 * mt.sin(phi_k) #round(-1.0 * mt.sin(phi_k), p)#-1. * mt.sin(phi_k)\n",
        "        U_k[l, k] = mt.sin(phi_k) #round(mt.sin(phi_k), p)#mt.sin(phi_k)\n",
        "        U_k[l, l] = mt.cos(phi_k) #round(mt.cos(phi_k), p)#mt.cos(phi_k)\n",
        "\n",
        "        U_k_transp = U_k.transpose()\n",
        "\n",
        "        A = U_k_transp * A * U_k\n",
        "        #A[k, l], A[l, k] = 0.0, 0.0\n",
        "\n",
        "        print(i+1, f\"index = ({k+1, l+1})\")\n",
        "        print_matrix(A, p)\n",
        "\n",
        "        if round(aMax, p + 1) <= 10 ** (-p) or ostanov(A, p):\n",
        "            print(f\"Jacobi method converges with {i+1} iterations with {n*(n-1)/2} matrix range\")\n",
        "            return A, i\n",
        "        counter += 1\n",
        "    print(f\"Jacobi method didn't converge with {rotMax} iterations\")\n",
        "    return None, i"
      ],
      "metadata": {
        "id": "f0kG-a28OZgx"
      },
      "execution_count": null,
      "outputs": []
    },
    {
      "cell_type": "markdown",
      "source": [
        "#Тесты Hilbert"
      ],
      "metadata": {
        "id": "UGigC23xKydw"
      }
    },
    {
      "cell_type": "code",
      "source": [
        "A = empty_matrix(3, 3, \"lil\")\n",
        "A[0, 0], A[0, 1], A[0, 2] = 2, 1, 1\n",
        "A[1, 0], A[1, 1], A[1, 2] = 1, 3, 2\n",
        "A[2, 0], A[2, 1], A[2, 2] = 1, 2, 4\n",
        "counter = 0\n",
        "\n",
        "a, i = jacobi_modern(A)\n",
        "diagonal = a.diagonal()\n",
        "print(diagonal)"
      ],
      "metadata": {
        "id": "2UeBVX84Q6vF"
      },
      "execution_count": null,
      "outputs": []
    },
    {
      "cell_type": "code",
      "source": [
        "def test_hilbert(tol):\n",
        "    global N, counter, diap\n",
        "    x = []\n",
        "    c = []\n",
        "    for n in diap:\n",
        "        A = generate_hilbert_matrix(n)\n",
        "        a, iter = jacobi_modern(A, tol)\n",
        "        c.append(counter)\n",
        "        x.append(iter)\n",
        "    return x, c\n",
        "\n",
        "\n",
        "def print_res_hilb(data, y_label=\"Вращения\"):\n",
        "    global diap, toler\n",
        "    plt.figure(figsize=(12,7))\n",
        "    flag = y_label != \"Вращения\"\n",
        "    for i in range(len(toler)):\n",
        "        plt.plot(list(diap), data[i][flag], label=\"tol=\" + str(10**(-toler[i])))\n",
        "    plt.xlabel(\"Размер матрицы\", fontsize=18)\n",
        "    plt.ylabel(y_label, fontsize=18)\n",
        "    plt.legend()\n",
        "    plt.show()"
      ],
      "metadata": {
        "id": "ukmhCOVZIzEG"
      },
      "execution_count": null,
      "outputs": []
    },
    {
      "cell_type": "code",
      "source": [
        "N = 5\n",
        "diap = range(N, N+1)\n",
        "data = []\n",
        "toler = [6]#[3, 6, 9, 12]\n",
        "\n",
        "for tol in toler:\n",
        "    print(f\"For tolerance {10** (-tol)}\")\n",
        "    counter = 0\n",
        "    data.append((test_hilbert(tol)))"
      ],
      "metadata": {
        "id": "B64X9jebTANc",
        "colab": {
          "base_uri": "https://localhost:8080/"
        },
        "outputId": "bace7ee1-82b4-4c58-ae9b-d132426b03ce"
      },
      "execution_count": null,
      "outputs": [
        {
          "output_type": "stream",
          "name": "stdout",
          "text": [
            "For tolerance 1e-06\n",
            "1 index = ((1, 2))\n",
            "1.267592 0.000000 0.411856 0.314790 0.254978 \n",
            "0.000000 0.065741 0.063133 0.058370 0.052574 \n",
            "0.411856 0.063133 0.200000 0.166667 0.142857 \n",
            "0.314790 0.058370 0.166667 0.142857 0.125000 \n",
            "0.254978 0.052574 0.142857 0.125000 0.111111 \n",
            "ostanov? = 0.638514\n",
            "2 index = ((1, 3))\n",
            "1.408009 0.020373 0.000000 0.351733 0.287437 \n",
            "0.020373 0.065741 0.059755 0.058370 0.052574 \n",
            "0.000000 0.059755 0.059583 0.056168 0.052934 \n",
            "0.351733 0.058370 0.056168 0.142857 0.125000 \n",
            "0.287437 0.052574 0.052934 0.125000 0.111111 \n",
            "ostanov? = 0.487929\n",
            "3 index = ((1, 4))\n",
            "1.499221 0.034373 0.014099 0.000000 0.309611 \n",
            "0.034373 0.065741 0.059755 0.051388 0.052574 \n",
            "0.014099 0.059755 0.059583 0.054370 0.052934 \n",
            "0.000000 0.051388 0.054370 0.051646 0.048846 \n",
            "0.309611 0.052574 0.052934 0.048846 0.111111 \n",
            "ostanov? = 0.33817\n",
            "4 index = ((1, 5))\n",
            "1.565147 0.044568 0.024814 0.010173 0.000000 \n",
            "0.044568 0.065741 0.059755 0.051388 0.044263 \n",
            "0.024814 0.059755 0.059583 0.054370 0.048837 \n",
            "0.010173 0.051388 0.054370 0.051646 0.047775 \n",
            "-0.000000 0.044263 0.048837 0.047775 0.045185 \n",
            "ostanov? = 0.136013\n",
            "5 index = ((2, 3))\n",
            "1.565147 0.049404 -0.012701 0.010173 0.000000 \n",
            "0.049404 0.122497 -0.000000 0.074703 0.065726 \n",
            "-0.012701 0.000000 0.002828 0.004033 0.004928 \n",
            "0.010173 0.074703 0.004033 0.051646 0.047775 \n",
            "-0.000000 0.065726 0.004928 0.047775 0.045185 \n",
            "ostanov? = 0.122184\n",
            "6 index = ((2, 4))\n",
            "1.565147 0.047191 -0.012701 -0.017812 0.000000 \n",
            "0.047191 0.169748 0.002156 -0.000000 0.081086 \n",
            "-0.012701 0.002156 0.002828 0.003408 0.004928 \n",
            "-0.017812 -0.000000 0.003408 0.004394 0.005241 \n",
            "-0.000000 0.081086 0.004928 0.005241 0.045185 \n",
            "ostanov? = 0.096688\n",
            "7 index = ((2, 5))\n",
            "1.565147 0.042329 -0.012701 -0.017812 -0.020862 \n",
            "0.042329 0.209711 0.004112 0.002317 0.000000 \n",
            "-0.012701 0.004112 0.002828 0.003408 0.003467 \n",
            "-0.017812 0.002317 0.003408 0.004394 0.004701 \n",
            "-0.020862 -0.000000 0.003467 0.004701 0.005222 \n",
            "ostanov? = 0.052665\n",
            "8 index = ((1, 2))\n",
            "1.566467 0.000000 -0.012566 -0.017731 -0.020852 \n",
            "-0.000000 0.208390 0.004506 0.002871 0.000651 \n",
            "-0.012566 0.004506 0.002828 0.003408 0.003467 \n",
            "-0.017731 0.002871 0.003408 0.004394 0.004701 \n",
            "-0.020852 0.000651 0.003467 0.004701 0.005222 \n",
            "ostanov? = 0.031334\n",
            "9 index = ((1, 5))\n",
            "1.566746 -0.000009 -0.012611 -0.017793 -0.000000 \n",
            "-0.000009 0.208390 0.004506 0.002871 0.000650 \n",
            "-0.012611 0.004506 0.002828 0.003408 0.003299 \n",
            "-0.017793 0.002871 0.003408 0.004394 0.004464 \n",
            "-0.000000 0.000650 0.003299 0.004464 0.004944 \n",
            "ostanov? = 0.023388\n",
            "10 index = ((1, 4))\n",
            "1.566948 -0.000041 -0.012649 -0.000000 -0.000051 \n",
            "-0.000041 0.208390 0.004506 0.002871 0.000650 \n",
            "-0.012649 0.004506 0.002828 0.003264 0.003299 \n",
            "0.000000 0.002871 0.003264 0.004192 0.004464 \n",
            "-0.000051 0.000650 0.003299 0.004464 0.004944 \n",
            "ostanov? = 0.01518\n",
            "11 index = ((1, 3))\n",
            "1.567051 -0.000078 -0.000000 -0.000026 -0.000078 \n",
            "-0.000078 0.208390 0.004506 0.002871 0.000650 \n",
            "-0.000000 0.004506 0.002725 0.003264 0.003298 \n",
            "-0.000026 0.002871 0.003264 0.004192 0.004464 \n",
            "-0.000078 0.000650 0.003298 0.004464 0.004944 \n",
            "ostanov? = 0.008393\n",
            "12 index = ((2, 3))\n",
            "1.567051 -0.000078 0.000002 -0.000026 -0.000078 \n",
            "-0.000078 0.208489 0.000000 0.002942 0.000723 \n",
            "0.000002 0.000000 0.002627 0.003201 0.003283 \n",
            "-0.000026 0.002942 0.003201 0.004192 0.004464 \n",
            "-0.000078 0.000723 0.003283 0.004464 0.004944 \n",
            "ostanov? = 0.007081\n",
            "13 index = ((4, 5))\n",
            "1.567051 -0.000078 0.000002 0.000033 -0.000075 \n",
            "-0.000078 0.208489 0.000000 0.001677 0.002523 \n",
            "0.000002 0.000000 0.002627 0.000134 0.004583 \n",
            "0.000033 0.001677 0.000134 0.000088 -0.000000 \n",
            "-0.000075 0.002523 0.004583 0.000000 0.009047 \n",
            "ostanov? = 0.005497\n",
            "14 index = ((3, 5))\n",
            "1.567051 -0.000078 0.000036 0.000033 -0.000066 \n",
            "-0.000078 0.208489 -0.001165 0.001677 0.002238 \n",
            "0.000036 -0.001165 0.000241 0.000119 0.000000 \n",
            "0.000033 0.001677 0.000119 0.000088 0.000062 \n",
            "-0.000066 0.002238 0.000000 0.000062 0.011433 \n",
            "ostanov? = 0.003034\n",
            "15 index = ((2, 5))\n",
            "1.567051 -0.000079 0.000036 0.000033 -0.000065 \n",
            "-0.000079 0.208514 -0.001165 0.001677 0.000000 \n",
            "0.000036 -0.001165 0.000241 0.000119 0.000013 \n",
            "0.000033 0.001677 0.000119 0.000088 0.000043 \n",
            "-0.000065 0.000000 0.000013 0.000043 0.011407 \n",
            "ostanov? = 0.002049\n",
            "16 index = ((2, 4))\n",
            "1.567051 -0.000078 0.000036 0.000034 -0.000065 \n",
            "-0.000078 0.208528 -0.001164 0.000000 0.000000 \n",
            "0.000036 -0.001164 0.000241 0.000128 0.000013 \n",
            "0.000034 0.000000 0.000128 0.000075 0.000043 \n",
            "-0.000065 0.000000 0.000013 0.000043 0.011407 \n",
            "ostanov? = 0.001177\n",
            "17 index = ((2, 3))\n",
            "1.567051 -0.000078 0.000036 0.000034 -0.000065 \n",
            "-0.000078 0.208534 0.000000 -0.000001 0.000000 \n",
            "0.000036 0.000000 0.000235 0.000128 0.000013 \n",
            "0.000034 -0.000001 0.000128 0.000075 0.000043 \n",
            "-0.000065 0.000000 0.000013 0.000043 0.011407 \n",
            "ostanov? = 0.000177\n",
            "18 index = ((3, 4))\n",
            "1.567051 -0.000078 0.000048 0.000012 -0.000065 \n",
            "-0.000078 0.208534 -0.000000 -0.000001 0.000000 \n",
            "0.000048 -0.000000 0.000306 -0.000000 0.000032 \n",
            "0.000012 -0.000001 0.000000 0.000003 0.000031 \n",
            "-0.000065 0.000000 0.000032 0.000031 0.011407 \n",
            "ostanov? = 0.000122\n",
            "19 index = ((1, 2))\n",
            "1.567051 0.000000 0.000048 0.000012 -0.000065 \n",
            "-0.000000 0.208534 -0.000000 -0.000001 0.000000 \n",
            "0.000048 -0.000000 0.000306 -0.000000 0.000032 \n",
            "0.000012 -0.000001 0.000000 0.000003 0.000031 \n",
            "-0.000065 0.000000 0.000032 0.000031 0.011407 \n",
            "ostanov? = 9.3e-05\n",
            "20 index = ((1, 5))\n",
            "1.567051 -0.000000 0.000048 0.000012 0.000000 \n",
            "-0.000000 0.208534 -0.000000 -0.000001 0.000000 \n",
            "0.000048 -0.000000 0.000306 -0.000000 0.000032 \n",
            "0.000012 -0.000001 0.000000 0.000003 0.000031 \n",
            "-0.000000 0.000000 0.000032 0.000031 0.011407 \n",
            "ostanov? = 6.7e-05\n",
            "21 index = ((1, 3))\n",
            "1.567051 -0.000000 0.000000 0.000012 0.000000 \n",
            "-0.000000 0.208534 -0.000000 -0.000001 0.000000 \n",
            "-0.000000 -0.000000 0.000306 -0.000000 0.000032 \n",
            "0.000012 -0.000001 -0.000000 0.000003 0.000031 \n",
            "0.000000 0.000000 0.000032 0.000031 0.011407 \n",
            "ostanov? = 4.7e-05\n",
            "22 index = ((3, 5))\n",
            "1.567051 -0.000000 -0.000000 0.000012 0.000000 \n",
            "-0.000000 0.208534 -0.000000 -0.000001 0.000000 \n",
            "-0.000000 -0.000000 0.000306 -0.000000 -0.000000 \n",
            "0.000012 -0.000001 -0.000000 0.000003 0.000031 \n",
            "0.000000 0.000000 0.000000 0.000031 0.011407 \n",
            "ostanov? = 3.3e-05\n",
            "23 index = ((4, 5))\n",
            "1.567051 -0.000000 -0.000000 0.000012 0.000000 \n",
            "-0.000000 0.208534 -0.000000 -0.000001 0.000000 \n",
            "-0.000000 -0.000000 0.000306 -0.000000 -0.000000 \n",
            "0.000012 -0.000001 -0.000000 0.000003 0.000000 \n",
            "0.000000 0.000000 -0.000000 0.000000 0.011407 \n",
            "ostanov? = 1.2e-05\n",
            "24 index = ((1, 4))\n",
            "1.567051 -0.000000 -0.000000 -0.000000 0.000000 \n",
            "-0.000000 0.208534 -0.000000 -0.000001 0.000000 \n",
            "-0.000000 -0.000000 0.000306 -0.000000 -0.000000 \n",
            "0.000000 -0.000001 -0.000000 0.000003 -0.000000 \n",
            "0.000000 0.000000 -0.000000 -0.000000 0.011407 \n",
            "ostanov? = 1e-06\n",
            "Jacobi method converges with 24 iterations with 10.0 matrix range\n"
          ]
        }
      ]
    },
    {
      "cell_type": "code",
      "source": [
        "print_res_hilb(data, \"Вращения\")\n",
        "#print_res_hilb(data, \"Итерации\")"
      ],
      "metadata": {
        "colab": {
          "base_uri": "https://localhost:8080/",
          "height": 450
        },
        "id": "xVzaPNouQax3",
        "outputId": "c715ad07-8988-486c-d41e-ad63e9ee57e3"
      },
      "execution_count": null,
      "outputs": [
        {
          "output_type": "display_data",
          "data": {
            "text/plain": [
              "<Figure size 864x504 with 1 Axes>"
            ],
            "image/png": "[encoded data removed]"
          },
          "metadata": {
            "needs_background": "light"
          }
        }
      ]
    },
    {
      "cell_type": "markdown",
      "source": [
        "#Тесты матрицы Лемера"
      ],
      "metadata": {
        "id": "FmE-ZTbvPJwM"
      }
    },
    {
      "cell_type": "code",
      "source": [
        "def test_lehmer(tol):\n",
        "    global N, counter, diap\n",
        "    x = []\n",
        "    c = []\n",
        "    for n in diap:\n",
        "        A = generate_lehmer_matrix(n)\n",
        "        a, iter = jacobi_modern(A, tol)\n",
        "        c.append(counter)\n",
        "        x.append(iter)\n",
        "    return x, c\n",
        "\n",
        "\n",
        "def print_res_lehmer(data, y_label=\"Вращения\"):\n",
        "    global diap, toler\n",
        "    plt.figure(figsize=(12,7))\n",
        "    flag = y_label != \"Вращения\"\n",
        "    for i in range(len(toler)):\n",
        "        plt.plot(list(diap), data[i][flag], label=\"tol=\" + str(10**(-toler[i])))\n",
        "    plt.xlabel(\"Размер матрицы\", fontsize=18)\n",
        "    plt.ylabel(y_label, fontsize=18)\n",
        "    plt.legend()\n",
        "    plt.show()"
      ],
      "metadata": {
        "id": "r7qtdku8PdKE"
      },
      "execution_count": null,
      "outputs": []
    },
    {
      "cell_type": "code",
      "source": [
        "N = 16\n",
        "diap = range(3, N, 3)\n",
        "data = []\n",
        "\n",
        "for tol in toler:\n",
        "    print(f\"For tolerance {10** (-tol)}\")\n",
        "    counter = 0\n",
        "    data.append((test_lehmer(tol)))"
      ],
      "metadata": {
        "id": "DCn1O380PNUc",
        "colab": {
          "base_uri": "https://localhost:8080/"
        },
        "outputId": "6f5ce156-1a74-4260-f5ad-f46c0b6ba2d5"
      },
      "execution_count": null,
      "outputs": [
        {
          "output_type": "stream",
          "name": "stdout",
          "text": [
            "For tolerance 0.001\n",
            "Jacobi method converges with 3 iterations with 3.0 matrix range\n",
            "Jacobi method converges with 28 iterations with 15.0 matrix range\n"
          ]
        },
        {
          "output_type": "stream",
          "name": "stderr",
          "text": [
            "/usr/local/lib/python3.7/dist-packages/scipy/sparse/_index.py:84: SparseEfficiencyWarning: Changing the sparsity structure of a csr_matrix is expensive. lil_matrix is more efficient.\n",
            "  self._set_intXint(row, col, x.flat[0])\n"
          ]
        },
        {
          "output_type": "stream",
          "name": "stdout",
          "text": [
            "Jacobi method converges with 76 iterations with 36.0 matrix range\n",
            "Jacobi method converges with 123 iterations with 66.0 matrix range\n",
            "Jacobi method converges with 188 iterations with 105.0 matrix range\n",
            "For tolerance 1e-06\n",
            "Jacobi method converges with 5 iterations with 3.0 matrix range\n",
            "Jacobi method converges with 41 iterations with 15.0 matrix range\n",
            "Jacobi method converges with 104 iterations with 36.0 matrix range\n",
            "Jacobi method converges with 188 iterations with 66.0 matrix range\n",
            "Jacobi method converges with 297 iterations with 105.0 matrix range\n",
            "For tolerance 1e-09\n",
            "Jacobi method converges with 6 iterations with 3.0 matrix range\n",
            "Jacobi method converges with 48 iterations with 15.0 matrix range\n",
            "Jacobi method converges with 119 iterations with 36.0 matrix range\n",
            "Jacobi method converges with 218 iterations with 66.0 matrix range\n",
            "Jacobi method converges with 356 iterations with 105.0 matrix range\n",
            "For tolerance 1e-12\n",
            "Jacobi method converges with 6 iterations with 3.0 matrix range\n",
            "Jacobi method converges with 52 iterations with 15.0 matrix range\n",
            "Jacobi method converges with 131 iterations with 36.0 matrix range\n",
            "Jacobi method converges with 243 iterations with 66.0 matrix range\n",
            "Jacobi method converges with 392 iterations with 105.0 matrix range\n"
          ]
        }
      ]
    },
    {
      "cell_type": "code",
      "source": [
        "print_res_lehmer(data, \"Вращения\")\n",
        "#print_res_lehmer(data, \"Итерации\")"
      ],
      "metadata": {
        "colab": {
          "base_uri": "https://localhost:8080/",
          "height": 450
        },
        "id": "R8HU3wNoPSv8",
        "outputId": "63a7fe6a-5faa-4fd0-8bbc-acf305233899"
      },
      "execution_count": null,
      "outputs": [
        {
          "output_type": "display_data",
          "data": {
            "text/plain": [
              "<Figure size 864x504 with 1 Axes>"
            ],
            "image/png": "[encoded data removed]"
          },
          "metadata": {
            "needs_background": "light"
          }
        }
      ]
    },
    {
      "cell_type": "markdown",
      "source": [
        "#Тесты с Condition"
      ],
      "metadata": {
        "id": "LVZ8XdBaemou"
      }
    },
    {
      "cell_type": "code",
      "source": [
        "def test_cond(tol, k):\n",
        "    global N, counter, diap\n",
        "    x = []\n",
        "    c = []\n",
        "    for n in diap:\n",
        "        A = generate_diagonal_domination_matrix(n, k)\n",
        "        print(np.linalg.cond(A.toarray()))\n",
        "        a, iter = jacobi_modern(A, tol)\n",
        "        c.append(counter)\n",
        "        x.append(iter)\n",
        "    return x, c\n",
        "\n",
        "\n",
        "def print_res_cond(data, y_label=\"Вращения\"):\n",
        "    global diap, k_param\n",
        "    plt.figure(figsize=(12,7))\n",
        "    flag = y_label != \"Вращения\"\n",
        "    for i in range(len(k_param)):\n",
        "        plt.plot(list(diap), data[i][flag], label=\"k=\" + str(k_param[i]))\n",
        "    plt.xlabel(\"Размер матрицы\", fontsize=18)\n",
        "    plt.ylabel(y_label, fontsize=18)\n",
        "    plt.legend()\n",
        "    plt.show()"
      ],
      "metadata": {
        "id": "f2QbpIs2fqx3"
      },
      "execution_count": null,
      "outputs": []
    },
    {
      "cell_type": "code",
      "source": [
        "N = 30\n",
        "diap = range(3, N, 3)\n",
        "data = []\n",
        "k_param = [0, 3, 6, 9, 12]\n",
        "\n",
        "for k in k_param:\n",
        "    counter = 0\n",
        "    data.append((test_cond(3, k)))"
      ],
      "metadata": {
        "id": "Y66dw0CNYyTA",
        "colab": {
          "base_uri": "https://localhost:8080/"
        },
        "outputId": "de2306b5-50a9-481d-eefb-3d08e0fddca3"
      },
      "execution_count": null,
      "outputs": [
        {
          "output_type": "stream",
          "name": "stdout",
          "text": [
            "10.464101615137755\n",
            "Jacobi method converges with 4 iterations with 3.0 matrix range\n",
            "20.816651743904572\n",
            "Jacobi method converges with 30 iterations with 15.0 matrix range\n",
            "29.654205440916982\n",
            "Jacobi method converges with 74 iterations with 36.0 matrix range\n",
            "39.32479222666583\n",
            "Jacobi method converges with 159 iterations with 66.0 matrix range\n",
            "42.9569886326458\n",
            "Jacobi method converges with 248 iterations with 105.0 matrix range\n",
            "44.552191186489466\n",
            "Jacobi method converges with 369 iterations with 153.0 matrix range\n",
            "54.64792606621761\n",
            "Jacobi method converges with 500 iterations with 210.0 matrix range\n",
            "66.55558644757566\n",
            "Jacobi method converges with 655 iterations with 276.0 matrix range\n",
            "73.29849979855668\n",
            "Jacobi method converges with 831 iterations with 351.0 matrix range\n",
            "10000.999999986689\n",
            "Jacobi method converges with 0 iterations with 3.0 matrix range\n",
            "16748.810127643614\n",
            "Jacobi method converges with 31 iterations with 15.0 matrix range\n",
            "27647.277273792235\n",
            "Jacobi method converges with 78 iterations with 36.0 matrix range\n",
            "36646.708578105965\n",
            "Jacobi method converges with 148 iterations with 66.0 matrix range\n",
            "40907.06860631811\n",
            "Jacobi method converges with 229 iterations with 105.0 matrix range\n",
            "46099.72380477207\n",
            "Jacobi method converges with 363 iterations with 153.0 matrix range\n",
            "58518.89634964507\n",
            "Jacobi method converges with 515 iterations with 210.0 matrix range\n",
            "65086.464380249396\n",
            "Jacobi method converges with 668 iterations with 276.0 matrix range\n",
            "67455.87202239847\n",
            "Jacobi method converges with 837 iterations with 351.0 matrix range\n",
            "8605552.275126353\n",
            "Jacobi method converges with 3 iterations with 3.0 matrix range\n",
            "18589979.356499266\n",
            "Jacobi method converges with 31 iterations with 15.0 matrix range\n",
            "25852679.34856572\n",
            "Jacobi method converges with 80 iterations with 36.0 matrix range\n",
            "29897933.661894765\n",
            "Jacobi method converges with 146 iterations with 66.0 matrix range\n",
            "41795380.20329601\n",
            "Jacobi method converges with 231 iterations with 105.0 matrix range\n",
            "51612106.27485974\n",
            "Jacobi method converges with 369 iterations with 153.0 matrix range\n",
            "57967202.28284913\n",
            "Jacobi method converges with 481 iterations with 210.0 matrix range\n",
            "66932389.45204889\n",
            "Jacobi method converges with 667 iterations with 276.0 matrix range\n",
            "75832557.04761536\n",
            "Jacobi method converges with 841 iterations with 351.0 matrix range\n",
            "4999999598.173938\n",
            "Jacobi method converges with 0 iterations with 3.0 matrix range\n",
            "21927157413.74101\n",
            "Jacobi method converges with 33 iterations with 15.0 matrix range\n",
            "25785498825.797752\n",
            "Jacobi method converges with 82 iterations with 36.0 matrix range\n",
            "37943811786.01634\n",
            "Jacobi method converges with 155 iterations with 66.0 matrix range\n",
            "42574251648.07017\n",
            "Jacobi method converges with 256 iterations with 105.0 matrix range\n",
            "51107163584.58612\n",
            "Jacobi method converges with 365 iterations with 153.0 matrix range\n",
            "57528794154.51794\n",
            "Jacobi method converges with 493 iterations with 210.0 matrix range\n",
            "65060262088.828545\n",
            "Jacobi method converges with 659 iterations with 276.0 matrix range\n",
            "73798847244.90015\n",
            "Jacobi method converges with 850 iterations with 351.0 matrix range\n",
            "8998600610522.455\n",
            "Jacobi method converges with 4 iterations with 3.0 matrix range\n",
            "16261269138120.936\n",
            "Jacobi method converges with 25 iterations with 15.0 matrix range\n",
            "26707736432567.668\n",
            "Jacobi method converges with 77 iterations with 36.0 matrix range\n",
            "36419151601378.83\n",
            "Jacobi method converges with 149 iterations with 66.0 matrix range\n",
            "39636028348424.41\n",
            "Jacobi method converges with 253 iterations with 105.0 matrix range\n",
            "54303428644801.99\n",
            "Jacobi method converges with 357 iterations with 153.0 matrix range\n",
            "57426269168497.24\n",
            "Jacobi method converges with 488 iterations with 210.0 matrix range\n",
            "64350884804668.91\n",
            "Jacobi method converges with 650 iterations with 276.0 matrix range\n",
            "69325457460762.06\n",
            "Jacobi method converges with 845 iterations with 351.0 matrix range\n"
          ]
        }
      ]
    },
    {
      "cell_type": "code",
      "source": [
        "print_res_cond(data, \"Вращения\")\n",
        "#print_res_cond(data, \"Итерации\")"
      ],
      "metadata": {
        "colab": {
          "base_uri": "https://localhost:8080/",
          "height": 450
        },
        "id": "eRkPxlYYgiae",
        "outputId": "0574daa7-a60e-4ee2-8e47-2f412fc1127d"
      },
      "execution_count": null,
      "outputs": [
        {
          "output_type": "display_data",
          "data": {
            "text/plain": [
              "<Figure size 864x504 with 1 Axes>"
            ],
            "image/png": "[encoded data removed]"
          },
          "metadata": {
            "needs_background": "light"
          }
        }
      ]
    },
    {
      "cell_type": "code",
      "source": [
        ""
      ],
      "metadata": {
        "id": "6SZ-frLeQzdw"
      },
      "execution_count": null,
      "outputs": []
    },
    {
      "cell_type": "markdown",
      "source": [
        "TODO:\n",
        "Подумать над задачей обклеивания; над задачей шарика на плоскости из 3-х точек"
      ],
      "metadata": {
        "id": "cG2rpW3w3F9T"
      }
    },
    {
      "cell_type": "code",
      "source": [
        ""
      ],
      "metadata": {
        "id": "54fMXnrd3O0D"
      },
      "execution_count": null,
      "outputs": []
    }
  ]
}