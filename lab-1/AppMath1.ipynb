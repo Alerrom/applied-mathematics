{
  "nbformat": 4,
  "nbformat_minor": 0,
  "metadata": {
    "colab": {
      "name": "AppMath.ipynb",
      "provenance": [],
      "collapsed_sections": [
        "UEHprAV5KrcW",
        "R0cIXO-xMzNv",
        "6lyMD2jdOnjq",
        "x_skcxCuOupa",
        "EdT0oDUKO41j",
        "gHJONnsRihcH"
      ]
    },
    "kernelspec": {
      "name": "python3",
      "display_name": "Python 3"
    },
    "language_info": {
      "name": "python"
    }
  },
  "cells": [
    {
      "cell_type": "markdown",
      "source": [
        "#Лабораторная работа №1#\n",
        "*Вариант 6*\n",
        "- Сравнить методы по количеству итераций и количеству вычислений функции в зависимости от точности. Нужно также указать, как изменяется отрезок при переходе от одной итерации к другой.\n",
        "\n",
        "- Протестировать на различных полиномах\n",
        "\n",
        "- могут ли метод залотого сечения/Брента не найти локальный минимум многомодальнй функции?\n",
        "\n",
        "- Сделать отчет\n"
      ],
      "metadata": {
        "id": "UEHprAV5KrcW"
      }
    },
    {
      "cell_type": "code",
      "source": [
        "import numpy as np\n",
        "import matplotlib.pyplot as plt\n",
        "import math"
      ],
      "metadata": {
        "id": "odxsy5pf-Mkc"
      },
      "execution_count": null,
      "outputs": []
    },
    {
      "cell_type": "code",
      "source": [
        "def f(x):\n",
        "    return np.sin(x) * (x**2)\n",
        "\n",
        "def g(x):\n",
        "    return (x + 1) * (x + 2) * (x - 3) * (x + 4) * (x + 5)\n",
        "\n",
        "def h(x):\n",
        "    return x**2 - 16/x"
      ],
      "metadata": {
        "id": "NsCEspC0Y1MF"
      },
      "execution_count": null,
      "outputs": []
    },
    {
      "cell_type": "code",
      "source": [
        "x = np.linspace(-5,2,100)\n",
        "plt.plot(x,f(x))\n",
        "\n",
        "x = np.linspace(-5,2,100)\n",
        "plt.plot(x,g(x));"
      ],
      "metadata": {
        "colab": {
          "base_uri": "https://localhost:8080/",
          "height": 265
        },
        "id": "QSY8DDRW_ICA",
        "outputId": "4405719b-7303-434c-a54b-8d68f17538b3"
      },
      "execution_count": null,
      "outputs": [
        {
          "output_type": "display_data",
          "data": {
            "text/plain": [
              "<Figure size 432x288 with 1 Axes>"
            ],
            "image/png": "[encoded data removed]"
          },
          "metadata": {
            "needs_background": "light"
          }
        }
      ]
    },
    {
      "cell_type": "code",
      "source": [
        "x = np.linspace(-20.1,-0.1,100)\n",
        "plt.plot(x,h(x));"
      ],
      "metadata": {
        "colab": {
          "base_uri": "https://localhost:8080/",
          "height": 265
        },
        "id": "72N38tebm2VL",
        "outputId": "75a76ee0-ac78-4f88-9019-c269f3c355af"
      },
      "execution_count": null,
      "outputs": [
        {
          "output_type": "display_data",
          "data": {
            "text/plain": [
              "<Figure size 432x288 with 1 Axes>"
            ],
            "image/png": "[encoded data removed]"
          },
          "metadata": {
            "needs_background": "light"
          }
        }
      ]
    },
    {
      "cell_type": "code",
      "source": [
        "#a, b = map(float, input(\"Enter parameters a b: \").split())\n",
        "#p = int(input(\"Enter precision p: \"))\n",
        "#e = 10 ** (-p)"
      ],
      "metadata": {
        "id": "DGTk955JAksB"
      },
      "execution_count": null,
      "outputs": []
    },
    {
      "cell_type": "markdown",
      "source": [
        ""
      ],
      "metadata": {
        "id": "6tyGK9XyFD2P"
      }
    },
    {
      "cell_type": "markdown",
      "source": [
        "#Метод дихотомии#"
      ],
      "metadata": {
        "id": "R0cIXO-xMzNv"
      }
    },
    {
      "cell_type": "code",
      "source": [
        "def dichotomyMethod(f, a, b, p):\n",
        "    e = 10 ** (-p)\n",
        "    A = [a]\n",
        "    B = [b]\n",
        "    Y = []\n",
        "    Z = []\n",
        "    counter = 0\n",
        "    f_counter = 0\n",
        "\n",
        "    while True:\n",
        "        Y.append((A[counter] + B[counter] - e) / 2)\n",
        "        f_y_k = f(Y[counter])\n",
        "        Z.append((A[counter] + B[counter] + e) / 2)\n",
        "        f_z_k = f(Z[counter])\n",
        "        if f_y_k <= f_z_k:\n",
        "            A.append(A[counter])\n",
        "            B.append(Z[counter])\n",
        "        elif f_y_k > f_z_k:\n",
        "            A.append(Y[counter])\n",
        "            B.append(B[counter])\n",
        "        if round(B[counter] - A[counter], p + 1) <= e:\n",
        "            break\n",
        "        counter += 1\n",
        "        f_counter += 2\n",
        "\n",
        "    x_min = (A[counter] + B[counter]) / 2\n",
        "\n",
        "    print(f\"Total operations performed: {counter}\")\n",
        "    print(f\"The function was calculated: {f_counter} times\")\n",
        "    print(f\"Minimun of f(x) on the interval [{a}, {b}] is {f(x_min)} at x = {x_min}\")\n",
        "\n",
        "    return x_min, np.array(A), np.array(B), counter, f_counter"
      ],
      "metadata": {
        "id": "jVkwJ5IMCTI4"
      },
      "execution_count": null,
      "outputs": []
    },
    {
      "cell_type": "code",
      "source": [
        "x_min, A, B, p, t = dichotomyMethod(f, -5, 2, 3)\n",
        "\n",
        "plt.plot(np.array(A) - np.array(B));"
      ],
      "metadata": {
        "colab": {
          "base_uri": "https://localhost:8080/",
          "height": 317
        },
        "id": "Mh4cJUbeSklB",
        "outputId": "cad91dcf-3fd8-4667-b967-f41cec52417e"
      },
      "execution_count": null,
      "outputs": [
        {
          "output_type": "stream",
          "name": "stdout",
          "text": [
            "Total operations performed: 18\n",
            "The function was calculated: 36 times\n",
            "Minimun of f(x) on the interval [-5, 2] is -3.94530162463663 at x = -2.288917356491089\n"
          ]
        },
        {
          "output_type": "display_data",
          "data": {
            "text/plain": [
              "<Figure size 432x288 with 1 Axes>"
            ],
            "image/png": "[encoded data removed]"
          },
          "metadata": {
            "needs_background": "light"
          }
        }
      ]
    },
    {
      "cell_type": "code",
      "source": [
        "plt.plot(A)\n",
        "plt.plot(B)"
      ],
      "metadata": {
        "id": "BkzJrQQtkkPe",
        "colab": {
          "base_uri": "https://localhost:8080/",
          "height": 282
        },
        "outputId": "93324fb6-1fc8-4bc4-b605-e8d3261a6baa"
      },
      "execution_count": null,
      "outputs": [
        {
          "output_type": "execute_result",
          "data": {
            "text/plain": [
              "[<matplotlib.lines.Line2D at 0x7f81f9931050>]"
            ]
          },
          "metadata": {},
          "execution_count": 107
        },
        {
          "output_type": "display_data",
          "data": {
            "text/plain": [
              "<Figure size 432x288 with 1 Axes>"
            ],
            "image/png": "[encoded data removed]"
          },
          "metadata": {
            "needs_background": "light"
          }
        }
      ]
    },
    {
      "cell_type": "code",
      "source": [
        "x_min, A, B = dichotomyMethod(g, -100, 100, 4)\n",
        "\n",
        "plt.plot(np.array(A) - np.array(B));"
      ],
      "metadata": {
        "colab": {
          "base_uri": "https://localhost:8080/",
          "height": 317
        },
        "id": "puebokv-n1Tv",
        "outputId": "c9842d6e-30be-4a75-b8ca-f39f0970423a"
      },
      "execution_count": null,
      "outputs": [
        {
          "output_type": "stream",
          "name": "stdout",
          "text": [
            "Total operations performed: 26\n",
            "The function was calculated: 52 times\n",
            "Minimun of f(x) on the interval [-100, 100] is -506.483374267551 at x = 1.9061660176463424\n"
          ]
        },
        {
          "output_type": "display_data",
          "data": {
            "text/plain": [
              "<Figure size 432x288 with 1 Axes>"
            ],
            "image/png": "[encoded data removed]"
          },
          "metadata": {
            "needs_background": "light"
          }
        }
      ]
    },
    {
      "cell_type": "code",
      "source": [
        "plt.plot(A)\n",
        "plt.plot(B)"
      ],
      "metadata": {
        "colab": {
          "base_uri": "https://localhost:8080/",
          "height": 282
        },
        "id": "In098G7Un2hm",
        "outputId": "688456b6-f098-4a47-8f99-512014475bb2"
      },
      "execution_count": null,
      "outputs": [
        {
          "output_type": "execute_result",
          "data": {
            "text/plain": [
              "[<matplotlib.lines.Line2D at 0x7f81f9b99410>]"
            ]
          },
          "metadata": {},
          "execution_count": 109
        },
        {
          "output_type": "display_data",
          "data": {
            "text/plain": [
              "<Figure size 432x288 with 1 Axes>"
            ],
            "image/png": "[encoded data removed]"
          },
          "metadata": {
            "needs_background": "light"
          }
        }
      ]
    },
    {
      "cell_type": "markdown",
      "source": [
        "#Метод золотого сечения#"
      ],
      "metadata": {
        "id": "6lyMD2jdOnjq"
      }
    },
    {
      "cell_type": "code",
      "source": [
        "def goldenRatioMethod(f, a, b, p):\n",
        "    fi = (3 - math.sqrt(5)) / 2\n",
        "    k = 0\n",
        "    f_counter = 0\n",
        "    e = 10 ** (-p)\n",
        "    A = [a]\n",
        "    B = [b]\n",
        "    Y = [A[k] + fi * (B[k] - A[k])]\n",
        "    Z = [A[k] + B[k] - Y[k]]\n",
        "\n",
        "    while True:\n",
        "        f_y_k = f(Y[k])\n",
        "        f_z_k = f(Z[k])\n",
        "        f_counter += 2\n",
        "        if f_y_k <= f_z_k:\n",
        "            A.append(A[k])\n",
        "            B.append(Z[k])\n",
        "            Y.append(A[k+1] + B[k+1] - Y[k])\n",
        "            Z.append(Y[k])\n",
        "        elif f_y_k > f_z_k:\n",
        "            A.append(Y[k])\n",
        "            B.append(B[k])\n",
        "            Y.append(Z[k])\n",
        "            Z.append(A[k+1] + B[k+1] - Z[k])\n",
        "        if round(abs(A[k] - B[k]), p+1) <= e:\n",
        "            break\n",
        "        k += 1\n",
        "\n",
        "    x_min = (A[k] + B[k]) / 2\n",
        "\n",
        "    print(f\"Total operations performed: {k}\")\n",
        "    print(f\"The function was calculated: {f_counter} times\")\n",
        "    print(f\"Minimun of f(x) on the interval [{a}, {b}] is {f(x_min)} at x = {x_min}\")\n",
        "\n",
        "    return x_min, np.array(A), np.array(B), k, f_counter"
      ],
      "metadata": {
        "id": "-u6ofjbaOmk1"
      },
      "execution_count": null,
      "outputs": []
    },
    {
      "cell_type": "code",
      "source": [
        "x_min, A, B, p, i = goldenRatioMethod(f, -5, 2, 3)\n",
        "\n",
        "plt.plot(np.array(A)-np.array(B));"
      ],
      "metadata": {
        "colab": {
          "base_uri": "https://localhost:8080/",
          "height": 317
        },
        "id": "Ohuv8dKOM0Vb",
        "outputId": "1d78507c-6903-4609-98c0-d1c1f0e6f479"
      },
      "execution_count": null,
      "outputs": [
        {
          "output_type": "stream",
          "name": "stdout",
          "text": [
            "Total operations performed: 19\n",
            "The function was calculated: 40 times\n",
            "Minimun of f(x) on the interval [-5, 2] is -3.945301595003215 at x = -2.28901431784979\n"
          ]
        },
        {
          "output_type": "display_data",
          "data": {
            "text/plain": [
              "<Figure size 432x288 with 1 Axes>"
            ],
            "image/png": "[encoded data removed]"
          },
          "metadata": {
            "needs_background": "light"
          }
        }
      ]
    },
    {
      "cell_type": "code",
      "source": [
        "plt.plot(A)\n",
        "plt.plot(B);"
      ],
      "metadata": {
        "colab": {
          "base_uri": "https://localhost:8080/",
          "height": 265
        },
        "id": "o4gZnB3sSdZe",
        "outputId": "9d34e10c-7239-487f-a097-cc8050b42a1f"
      },
      "execution_count": null,
      "outputs": [
        {
          "output_type": "display_data",
          "data": {
            "text/plain": [
              "<Figure size 432x288 with 1 Axes>"
            ],
            "image/png": "[encoded data removed]"
          },
          "metadata": {
            "needs_background": "light"
          }
        }
      ]
    },
    {
      "cell_type": "code",
      "source": [
        "x_min, A, B = goldenRatioMethod(g, -100, 100, 4)\n",
        "\n",
        "plt.plot(np.array(A)-np.array(B));"
      ],
      "metadata": {
        "colab": {
          "base_uri": "https://localhost:8080/",
          "height": 317
        },
        "id": "wK0UqV6boqow",
        "outputId": "9c7ccb66-bac7-43dc-ab5e-62a59489a69a"
      },
      "execution_count": null,
      "outputs": [
        {
          "output_type": "stream",
          "name": "stdout",
          "text": [
            "Total operations performed: 31\n",
            "The function was calculated: 64 times\n",
            "Minimun of f(x) on the interval [-100, 100] is -0.9999999999802818 at x = -0.9999955594812704\n"
          ]
        },
        {
          "output_type": "display_data",
          "data": {
            "text/plain": [
              "<Figure size 432x288 with 1 Axes>"
            ],
            "image/png": "[encoded data removed]"
          },
          "metadata": {
            "needs_background": "light"
          }
        }
      ]
    },
    {
      "cell_type": "code",
      "source": [
        "plt.plot(A)\n",
        "plt.plot(B);"
      ],
      "metadata": {
        "colab": {
          "base_uri": "https://localhost:8080/",
          "height": 265
        },
        "id": "Y_EMc5Mfow5G",
        "outputId": "fd0ad6bc-33b3-4ece-cb07-02054efdac1d"
      },
      "execution_count": null,
      "outputs": [
        {
          "output_type": "display_data",
          "data": {
            "text/plain": [
              "<Figure size 432x288 with 1 Axes>"
            ],
            "image/png": "[encoded data removed]"
          },
          "metadata": {
            "needs_background": "light"
          }
        }
      ]
    },
    {
      "cell_type": "markdown",
      "source": [
        "#Метод Фибоначчи#"
      ],
      "metadata": {
        "id": "x_skcxCuOupa"
      }
    },
    {
      "cell_type": "code",
      "source": [
        "def createFib(a, b, e):\n",
        "    k = int((b - a) / e)\n",
        "    if k == 1:\n",
        "        return [1]\n",
        "    a = [1, 1]\n",
        "\n",
        "    tmp = [1, 1]\n",
        "    while k >= a[len(a)-1]:\n",
        "        tmp[0], tmp[1] = tmp[1], tmp[0] + tmp[1]\n",
        "        a.append(tmp[1])\n",
        "    return a"
      ],
      "metadata": {
        "id": "uao_Tt_GOuEK"
      },
      "execution_count": null,
      "outputs": []
    },
    {
      "cell_type": "code",
      "source": [
        "def FibonacciMethod(f, a, b, p):\n",
        "    e = 10 ** (-p)\n",
        "    A = [a]\n",
        "    B = [b]\n",
        "    k = 0\n",
        "    f_counter = 0\n",
        "    F = createFib(a, b, e)\n",
        "    n = len(F)-1\n",
        "    Y = [A[k] + F[n - 2] / F[n] * (B[k] - A[k])]\n",
        "    Z = [A[k] + F[n - 1] / F[n] * (B[k] - A[k])]\n",
        "\n",
        "    while True:\n",
        "        f_y_k = f(Y[k])\n",
        "        f_z_k = f(Z[k])\n",
        "        f_counter += 2\n",
        "        if f_y_k <= f_z_k:\n",
        "            A.append(A[k])\n",
        "            B.append(Z[k])\n",
        "            Z.append(Y[k])\n",
        "            Y.append(A[k+1] + F[n-k-3]/F[n-k-1]*(B[k+1] - A[k+1]))\n",
        "        elif f_y_k > f_z_k:\n",
        "            A.append(Y[k])\n",
        "            B.append(B[k])\n",
        "            Y.append(Z[k])\n",
        "            Z.append(A[k+1] + F[n-k-2]/F[n-k-1]*(B[k+1] - A[k+1]))\n",
        "\n",
        "        if k != n - 3:\n",
        "            k += 1\n",
        "            continue\n",
        "        elif k == n - 3:\n",
        "            Y[n-2] = Y[n-3]\n",
        "            Z[n-2] = Y[n-2] + e\n",
        "\n",
        "            f_y = f(Y[n-2])\n",
        "            f_z = f(Z[n-2])\n",
        "            if f_y_k <= f_z_k:\n",
        "                A[n-2] = A[n-3]\n",
        "                B[n-2] = Z[n-2]\n",
        "            elif f_y_k > f_z_k:\n",
        "                A[n-2] = Y[n-2]\n",
        "                B[n-2] = B[n-3]\n",
        "            break\n",
        "\n",
        "\n",
        "    x_min = (A[n-2] + B[n-2]) / 2\n",
        "\n",
        "    print(f\"Total operations performed: {k}\")\n",
        "    print(f\"The function was calculated: {f_counter} times\")\n",
        "    print(f\"Minimun of f(x) on the interval [{a}, {b}] is {f(x_min)} at x = {x_min}\")\n",
        "\n",
        "    return x_min, np.array(A), np.array(B), k, f_counter"
      ],
      "metadata": {
        "id": "oOXxnHdltfqI"
      },
      "execution_count": null,
      "outputs": []
    },
    {
      "cell_type": "code",
      "source": [
        "x_min, A, B, p, r = FibonacciMethod(f, -5, 2, 3)\n",
        "\n",
        "plt.plot(np.array(A)-np.array(B));"
      ],
      "metadata": {
        "colab": {
          "base_uri": "https://localhost:8080/",
          "height": 317
        },
        "id": "gz-seGQRaVZJ",
        "outputId": "cb8cb326-9afa-4201-c7aa-d53a9076644d"
      },
      "execution_count": null,
      "outputs": [
        {
          "output_type": "stream",
          "name": "stdout",
          "text": [
            "Total operations performed: 17\n",
            "The function was calculated: 36 times\n",
            "Minimun of f(x) on the interval [-5, 2] is -3.9453016195709543 at x = -2.28896647177051\n"
          ]
        },
        {
          "output_type": "display_data",
          "data": {
            "text/plain": [
              "<Figure size 432x288 with 1 Axes>"
            ],
            "image/png": "[encoded data removed]"
          },
          "metadata": {
            "needs_background": "light"
          }
        }
      ]
    },
    {
      "cell_type": "code",
      "source": [
        "plt.plot(A)\n",
        "plt.plot(B);"
      ],
      "metadata": {
        "colab": {
          "base_uri": "https://localhost:8080/",
          "height": 265
        },
        "id": "uqu4qD1mcX9Y",
        "outputId": "c24c6428-5612-4008-d24a-2ae2a1a0b99c"
      },
      "execution_count": null,
      "outputs": [
        {
          "output_type": "display_data",
          "data": {
            "text/plain": [
              "<Figure size 432x288 with 1 Axes>"
            ],
            "image/png": "[encoded data removed]"
          },
          "metadata": {
            "needs_background": "light"
          }
        }
      ]
    },
    {
      "cell_type": "code",
      "source": [
        "x_min, A, B = FibonacciMethod(g, -100, 100, 4)\n",
        "\n",
        "plt.plot(np.array(A)-np.array(B));"
      ],
      "metadata": {
        "colab": {
          "base_uri": "https://localhost:8080/",
          "height": 317
        },
        "id": "wbm_3aQrsNJx",
        "outputId": "320f102f-2cdd-498f-8164-9bcea01b89d0"
      },
      "execution_count": null,
      "outputs": [
        {
          "output_type": "stream",
          "name": "stdout",
          "text": [
            "Total operations performed: 28\n",
            "The function was calculated: 58 times\n",
            "Minimun of f(x) on the interval [-100, 100] is -0.9999999999829295 at x = -0.9999958683547739\n"
          ]
        },
        {
          "output_type": "display_data",
          "data": {
            "text/plain": [
              "<Figure size 432x288 with 1 Axes>"
            ],
            "image/png": "[encoded data removed]"
          },
          "metadata": {
            "needs_background": "light"
          }
        }
      ]
    },
    {
      "cell_type": "code",
      "source": [
        "plt.plot(A)\n",
        "plt.plot(B);"
      ],
      "metadata": {
        "colab": {
          "base_uri": "https://localhost:8080/",
          "height": 265
        },
        "id": "Hva5M68-sRyI",
        "outputId": "51647b91-2164-413a-fa4a-8eeda9fe406d"
      },
      "execution_count": null,
      "outputs": [
        {
          "output_type": "display_data",
          "data": {
            "text/plain": [
              "<Figure size 432x288 with 1 Axes>"
            ],
            "image/png": "[encoded data removed]"
          },
          "metadata": {
            "needs_background": "light"
          }
        }
      ]
    },
    {
      "cell_type": "markdown",
      "source": [
        "#Метод парабол#"
      ],
      "metadata": {
        "id": "kwAAYJBLO117"
      }
    },
    {
      "cell_type": "code",
      "source": [
        "def parabola_search(f, a, b, dx, p):\n",
        "    X_mem = []\n",
        "    X = [0 for i in range(3)]\n",
        "    F = [0 for i in range(3)]\n",
        "\n",
        "    X[0] = a \n",
        "    e_1 = 10 ** (-p)\n",
        "    e_2 = 10 ** (-p-1)\n",
        "    x_res = a\n",
        "    flag = False\n",
        "    X_means = []\n",
        "    counter = 0\n",
        "    f_counter = 0\n",
        "\n",
        "    while True:\n",
        "        counter += 1\n",
        "        if not flag:\n",
        "            X[1]= X[0] + dx\n",
        "            F[0] = f(X[0])\n",
        "            F[1] = f(X[1])\n",
        "            f_counter += 2\n",
        "            if F[0] > F[1]:\n",
        "                X[2] = X[0] + 2 * dx\n",
        "            elif F[0] <= F[1]:\n",
        "                X[2] = X[0] - dx\n",
        "            F[2] = f(X[2])\n",
        "            f_counter += 1\n",
        "        X_mem.append(X)\n",
        "        F_min = min(F)\n",
        "        x_min = X[F.index(F_min)]\n",
        "\n",
        "        numerator = F[0] * (X[1] ** 2 - X[2] ** 2) + F[1] * (X[2] ** 2 - X[0] ** 2) + F[2] * (X[0] ** 2 - X[1] ** 2)\n",
        "        denominator = 2 * (F[0] * (X[1] - X[2]) + F[1] * (X[2] - X[0]) + F[2] * (X[0] - X[1]))\n",
        "\n",
        "        if denominator == 0:\n",
        "            X[0] = x_min\n",
        "            continue\n",
        "\n",
        "        x_mean = round(numerator / denominator, p+4)\n",
        "        X_means.append(x_mean)\n",
        "        F_mean = f(x_mean)\n",
        "        f_counter += 1\n",
        "        if abs((F_min - F_mean)/(F_mean + 1e-7)) <= e_1 and abs((x_min - x_mean)/(x_mean + 1e-7)) <= e_2:\n",
        "            x_res = x_mean\n",
        "            break\n",
        "        else:\n",
        "            if X[0] <= x_mean <= X[2]:\n",
        "                flag = True\n",
        "                if X[0] < x_mean < X[1]:\n",
        "                    if F_min < F_mean:\n",
        "                        X[0], X[1], X[2] = x_min - dx, x_min, x_min + dx\n",
        "                        F[0], F[1], F[2] = f(X[0]), f(X[1]), f(X[2])\n",
        "                    else:\n",
        "                        X[0], X[1], X[2] = x_mean - dx, x_mean, x_mean + dx\n",
        "                        F[0], F[1], F[2] = f(X[0]), f(X[1]), f(X[2])\n",
        "                elif X[1] < x_mean < X[2]:\n",
        "                    X[0], X[1], X[2] = X[1], x_mean, X[2]\n",
        "                    F[0], F[1], F[2] = f(X[0]), f(X[1]), f(X[2])\n",
        "                f_counter += 3\n",
        "                continue\n",
        "            elif X[0] > x_mean or x_mean > X[2]:\n",
        "                flag = False\n",
        "                X[0] = x_mean\n",
        "                continue\n",
        "\n",
        "    print(f'Total operations performed: {counter}')\n",
        "    print(f\"The function was calculated: {f_counter} times\")\n",
        "    print(f'Minimum of f(x) on the interval [{a}, {b}] is at y = {f(x_res)} and x = {x_res}')\n",
        "\n",
        "    return x_res, X_means, X_mem, counter, f_counter\n"
      ],
      "metadata": {
        "id": "zN2SCsfhOnD1"
      },
      "execution_count": null,
      "outputs": []
    },
    {
      "cell_type": "code",
      "source": [
        "x, X, X_mem, ew, fds = parabola_search(f, -5, 0, 0.51, 5)\n",
        "\n",
        "plt.plot(np.array(X_mem)[:][2]);"
      ],
      "metadata": {
        "id": "jyQvk9g0huNL",
        "colab": {
          "base_uri": "https://localhost:8080/",
          "height": 317
        },
        "outputId": "761c3e22-b54e-49ac-ba2f-2b2984685bae"
      },
      "execution_count": null,
      "outputs": [
        {
          "output_type": "stream",
          "name": "stdout",
          "text": [
            "Total operations performed: 12\n",
            "The function was calculated: 48 times\n",
            "Minimum of f(x) on the interval [-5, 0] is at y = -3.931536444089165 and x = -2.231173072\n"
          ]
        },
        {
          "output_type": "display_data",
          "data": {
            "text/plain": [
              "<Figure size 432x288 with 1 Axes>"
            ],
            "image/png": "[encoded data removed]"
          },
          "metadata": {
            "needs_background": "light"
          }
        }
      ]
    },
    {
      "cell_type": "code",
      "source": [
        "plt.plot(X);"
      ],
      "metadata": {
        "colab": {
          "base_uri": "https://localhost:8080/",
          "height": 265
        },
        "id": "2UTDWDcG5_G3",
        "outputId": "a974ff53-1202-4659-e726-d8baad38380d"
      },
      "execution_count": null,
      "outputs": [
        {
          "output_type": "display_data",
          "data": {
            "text/plain": [
              "<Figure size 432x288 with 1 Axes>"
            ],
            "image/png": "[encoded data removed]"
          },
          "metadata": {
            "needs_background": "light"
          }
        }
      ]
    },
    {
      "cell_type": "code",
      "source": [
        "'''\n",
        "def parabola_search(f, x1, x2, x3, p):\n",
        "    A = [x1]\n",
        "    X = [x2]\n",
        "    B = [x3]\n",
        "    eps = 10 ** (-p)\n",
        "    f1, f2, f3 = f(x1), f(x2), f(x3)\n",
        "    while x3 - x1 > eps:\n",
        "        u = x2 - ((x2 - x1)**2*(f2 - f3) - (x2 - x3)**2*(f2 - f1))/((2*((x2 - x1)*(f2 - f3) - (x2 - x3)*(f2 - f1)))+0.000000001)\n",
        "        fu = f(u)\n",
        "\n",
        "        if x2 <= u:\n",
        "            if f2 <= fu:\n",
        "                x1, x2, x3 = x1, x2, u\n",
        "                f1, f2, f3 = f1, f2, fu\n",
        "            else:\n",
        "                x1, x2, x3 = x2, u, x3\n",
        "                f1, f2, f3 = f2, fu, f3\n",
        "        else:\n",
        "            if fu <= f2:\n",
        "                x1, x2, x3 = x1, u, x2\n",
        "                f1, f2, f3 = f1, fu, f2\n",
        "            else:\n",
        "                x1, x2, x3 = u, x2, x3\n",
        "                f1, f2, f3 = fu, f2, f3\n",
        "        \n",
        "        A.append(x1)\n",
        "        X.append(x2)\n",
        "        B.append(x3)\n",
        "    return (x1 + x3) / 2\n",
        "'''"
      ],
      "metadata": {
        "id": "S36-oXmwc7jR"
      },
      "execution_count": null,
      "outputs": []
    },
    {
      "cell_type": "markdown",
      "source": [
        "#Комбинированный метод Брента#"
      ],
      "metadata": {
        "id": "EdT0oDUKO41j"
      }
    },
    {
      "cell_type": "code",
      "source": [
        "def brents_method(f, a, c, p, eps):\n",
        "    counter = 0\n",
        "    f_counter = 0\n",
        "    A, C = [a], [c]\n",
        "    K = (3 - math.sqrt(5)) / 2\n",
        "    x, w, v = (a + c) / 2, (a + c) / 2, (a + c) / 2\n",
        "    tmp = f(x)\n",
        "    f_counter += 1\n",
        "    fx, fw, fv = tmp, tmp, tmp\n",
        "    d, e = c - a, c - a\n",
        "    \n",
        "    while True:\n",
        "        counter +=  1\n",
        "        g, e = e, d\n",
        "\n",
        "        numerator = (w - x)**2 * (fw - fv) - (w - v)**2 * (fw - fx)\n",
        "        denominator = 2 * ((w - x) * (fw - fv) - (w - v) * (fw - fx))\n",
        "        u = w - numerator / (denominator + 10 ** (-p - 4))\n",
        "\n",
        "        if a + eps <= u <= c - eps and abs(u - x) < g / 2:\n",
        "            d = np.abs(u - x)\n",
        "        else:\n",
        "            if x < (c - a) / 2:\n",
        "                u = x + K * (c - x)\n",
        "                d = c - x\n",
        "            else:\n",
        "                u = x - K * (x - a)\n",
        "                d = x - a\n",
        "        \n",
        "        if abs(u - x) < eps:\n",
        "            if (u - x) < 0:\n",
        "                u = x - eps\n",
        "            elif abs(u - x) > eps:\n",
        "                u = x + eps\n",
        "            else:\n",
        "                u = x\n",
        "        \n",
        "        fu = f(u)\n",
        "        f_counter += 1\n",
        "        if fu <= fx:\n",
        "            if u >= x:\n",
        "                a = x\n",
        "            else:\n",
        "                c = x\n",
        "            A.append(a)\n",
        "            C.append(c)\n",
        "            v, w, x = w, x, u\n",
        "            fv, fw, fx = fw, fx, fu\n",
        "        else:\n",
        "            if u >= x:\n",
        "                c = u\n",
        "            else:\n",
        "                a = u\n",
        "            A.append(a)\n",
        "            C.append(c)\n",
        "            if fu <= fw or w == x:\n",
        "                v, w = w, u\n",
        "                fv, fw = fw, fu\n",
        "            elif fu <= fv or v == x or v == w:\n",
        "                v = u\n",
        "                fv = fu\n",
        "\n",
        "        if round(abs(a - c), p + 1) <= 3*eps:\n",
        "            break\n",
        "    \n",
        "    print(f'Total operations performed: {counter}')\n",
        "    print(f\"The function was calculated: {f_counter} times\")\n",
        "    print(f'Minimum of f(x) on the interval [{A[0]}, {C[0]}] is at y = {f(x)} and x = {x}')\n",
        "\n",
        "    return x, np.array(A), np.array(C), counter, f_counter"
      ],
      "metadata": {
        "id": "XCarQKZ6OnIz"
      },
      "execution_count": null,
      "outputs": []
    },
    {
      "cell_type": "code",
      "source": [
        "x, A, C = brents_method(f, -5, 0, 3, 0.001)\n",
        "plt.plot(A)\n",
        "plt.plot(C);"
      ],
      "metadata": {
        "colab": {
          "base_uri": "https://localhost:8080/",
          "height": 317
        },
        "id": "TBIOLFCN3o_M",
        "outputId": "e2afc48e-7fda-4fff-bd0a-51a7e4aaa482"
      },
      "execution_count": null,
      "outputs": [
        {
          "output_type": "stream",
          "name": "stdout",
          "text": [
            "Total operations performed: 9\n",
            "The function was calculated: 10 times\n",
            "Minimum of f on the interval [-5, 0] is at y = -3.945301613197624 and x = -2.2889831708310804\n"
          ]
        },
        {
          "output_type": "display_data",
          "data": {
            "text/plain": [
              "<Figure size 432x288 with 1 Axes>"
            ],
            "image/png": "[encoded data removed]"
          },
          "metadata": {
            "needs_background": "light"
          }
        }
      ]
    },
    {
      "cell_type": "code",
      "source": [
        ""
      ],
      "metadata": {
        "colab": {
          "base_uri": "https://localhost:8080/"
        },
        "id": "Hnaz77UZT0I2",
        "outputId": "6e64620c-2180-48b3-bf7c-cfc550aff36b"
      },
      "execution_count": null,
      "outputs": [
        {
          "output_type": "execute_result",
          "data": {
            "text/plain": [
              "-0.8414709848078965"
            ]
          },
          "metadata": {},
          "execution_count": 66
        }
      ]
    },
    {
      "cell_type": "markdown",
      "source": [
        "#Всякие приколюхи из интернета#\n",
        "\n"
      ],
      "metadata": {
        "id": "gHJONnsRihcH"
      }
    },
    {
      "cell_type": "code",
      "source": [
        "#@title Line search for unimodal functions. Optimizers comparison { run: \"auto\" }\n",
        "# Need to implement brent method, but in scipy\n",
        "# it has no callbacks right now :(\n",
        "#===== Libraries =====#\n",
        "from scipy.optimize import OptimizeResult\n",
        "from scipy.optimize import minimize\n",
        "import numpy as np\n",
        "from matplotlib import pyplot as plt\n",
        "import math\n",
        "\n",
        "#===== Algorithms =====#\n",
        "def callback(xk, f, funs, xs, loc_lens):\n",
        "    funs.append(f(xk))\n",
        "    xs.append(xk)\n",
        "    loc_lens.append(x_b - x_a)\n",
        "\n",
        "def random_bracket_line_search(fun, x0, args=(), maxfev=None,\n",
        "        maxiter=100, callback=None, **options):\n",
        "    tol, x_a, x_b = options['tol'], options['x_a'], options['x_b']\n",
        "    x_best = x0\n",
        "    funcalls = 0\n",
        "    niter = 0\n",
        "    stop = False\n",
        "    success = False\n",
        "\n",
        "    while not stop and niter < maxiter:\n",
        "        improved = False\n",
        "        niter += 1\n",
        "        funcalls += 2\n",
        "        \n",
        "        x_guess_left    = np.random.uniform(x_a, x_b)\n",
        "        x_guess_right   = np.random.uniform(x_a, x_b)\n",
        "        x_guess_left, x_guess_right = min(x_guess_left, x_guess_right), max(x_guess_left, x_guess_right)\n",
        "        f_guess_left    = fun(x_guess_left)\n",
        "        f_guess_right   = fun(x_guess_right)\n",
        "\n",
        "        if f_guess_left <= f_guess_right:\n",
        "            x_b = x_guess_right\n",
        "        else:\n",
        "            x_a = x_guess_left\n",
        "\n",
        "        x_best = (x_a + x_b)/2\n",
        "        f_best = fun(x_best)\n",
        "        \n",
        "        if callback is not None:\n",
        "            callback(x_best)\n",
        "        \n",
        "        if (x_b - x_a < tol):\n",
        "            success = True\n",
        "\n",
        "        if (maxfev is not None and funcalls >= maxfev) or (x_b - x_a < tol):\n",
        "            stop = True\n",
        "            break\n",
        "\n",
        "        \n",
        "    return OptimizeResult(fun=f_best, x=x_best, nit=niter,\n",
        "                          nfev=funcalls, success=success)\n",
        "\n",
        "def binary_search(fun, x0, args=(), maxfev=None,\n",
        "        maxiter=100, callback=None, **options):\n",
        "    tol, x_a, x_b = options['tol'], options['x_a'], options['x_b']\n",
        "    x_best = x0\n",
        "    funcalls = 1\n",
        "    niter = 0\n",
        "    stop = False\n",
        "    success = False\n",
        "\n",
        "    while not stop and niter < maxiter:\n",
        "        niter += 1\n",
        "        x_c = (x_a + x_b) / 2\n",
        "        x_y = (x_a + x_c) / 2\n",
        "        funcalls += 1\n",
        "        if fun(x_y) <= fun(x_c):\n",
        "            x_b = x_c\n",
        "            x_c = x_y\n",
        "        else:\n",
        "            x_z = (x_b + x_c) / 2\n",
        "            funcalls += 1\n",
        "            if fun(x_c) <= fun(x_z):\n",
        "                x_a = x_y\n",
        "                x_b = x_z\n",
        "            else:\n",
        "                x_a = x_c\n",
        "                x_c = x_z\n",
        "\n",
        "        x_best = x_c\n",
        "        f_best = fun(x_c)\n",
        "        \n",
        "        if callback is not None:\n",
        "            callback(x_best)\n",
        "        \n",
        "        if (x_b - x_a < tol):\n",
        "            success = True\n",
        "\n",
        "        if (maxfev is not None and funcalls >= maxfev) or (x_b - x_a < tol):\n",
        "            stop = True\n",
        "            break\n",
        "\n",
        "        \n",
        "    return OptimizeResult(fun=f_best, x=x_best, nit=niter,\n",
        "                          nfev=funcalls, success=success)\n",
        "\n",
        "def golden_search(fun, x0, args=(), maxfev=None,\n",
        "        maxiter=100, callback=None, **options):\n",
        "    tol, x_a, x_b = options['tol'], options['x_a'], options['x_b']\n",
        "    x_best = x0\n",
        "    funcalls = 1\n",
        "    niter = 0\n",
        "    stop = False\n",
        "    success = False\n",
        "\n",
        "    while not stop and niter < maxiter:\n",
        "        niter += 1\n",
        "        tau = (np.sqrt(5) + 1) / 2.0\n",
        "        x_y = x_a + (x_b - x_a) / tau**2\n",
        "        x_z = x_a + (x_b - x_a) / tau\n",
        "        funcalls += 1\n",
        "        if fun(x_y) <= fun(x_z):\n",
        "            x_b = x_z\n",
        "            x_z = x_y\n",
        "            x_y = x_a + (x_b - x_a) / tau**2\n",
        "        else:\n",
        "            x_a = x_y\n",
        "            x_y = x_z\n",
        "            x_z = x_a + (x_b - x_a) / tau\n",
        "\n",
        "        x_best = x_z\n",
        "        f_best = fun(x_z)\n",
        "        \n",
        "        if callback is not None:\n",
        "            callback(x_best)\n",
        "        \n",
        "        if (x_b - x_a < tol):\n",
        "            success = True\n",
        "\n",
        "        if (maxfev is not None and funcalls >= maxfev) or (x_b - x_a < tol):\n",
        "            stop = True\n",
        "            break\n",
        "\n",
        "    return OptimizeResult(fun=f_best, x=x_best, nit=niter,\n",
        "                          nfev=funcalls, success=success)\n",
        "    \n",
        "def parabolic_search(fun, x0, args=(), maxfev=None,\n",
        "        maxiter=100, callback=None, **options):\n",
        "    tol, x_a, x_b = options['tol'], options['x_a'], options['x_b']\n",
        "    x1, x2, x3 = x_a, (x_a + x_b)/2, x_b\n",
        "    x_best = x2\n",
        "    funcalls = 3\n",
        "    niter = 0\n",
        "    stop = False\n",
        "    success = False\n",
        "\n",
        "    f1, f2, f3 = fun(x1), fun(x2), fun(x3)\n",
        "\n",
        "    while not stop and niter < maxiter:\n",
        "        funcalls += 1\n",
        "        niter += 1\n",
        "\n",
        "        u = x2 - ((x2 - x1)**2*(f2 - f3) - (x2 - x3)**2*(f2 - f1))/(2*((x2 - x1)*(f2 - f3) - (x2 - x3)*(f2 - f1)))\n",
        "        fu = fun(u)\n",
        "\n",
        "        if x2 <= u:\n",
        "            if f2 <= fu:\n",
        "                x1, x2, x3 = x1, x2, u\n",
        "                f1, f2, f3 = f1, f2, fu\n",
        "            else:\n",
        "                x1, x2, x3 = x2, u, x3\n",
        "                f1, f2, f3 = f2, fu, f3\n",
        "        else:\n",
        "            if fu <= f2:\n",
        "                x1, x2, x3 = x1, u, x2\n",
        "                f1, f2, f3 = f1, fu, f2\n",
        "            else:\n",
        "                x1, x2, x3 = u, x2, x3\n",
        "                f1, f2, f3 = fu, f2, f3\n",
        "\n",
        "        x_best = (x1 + x3)/2\n",
        "\n",
        "        if callback is not None:\n",
        "            callback(x2)\n",
        "        \n",
        "        if (abs(x3 - x1) < tol):\n",
        "            success = True\n",
        "\n",
        "        if (maxfev is not None and funcalls >= maxfev) or (abs(x3 - x1) < tol):\n",
        "            stop = True\n",
        "            break\n",
        "\n",
        "    return OptimizeResult(fun=fun(x_best), x=x_best, nit=niter,\n",
        "                          nfev=funcalls, success=success)\n",
        "\n",
        "#===== Functions =====#\n",
        "# \"sin(sin(sin(sqrt(x/2))))\"\n",
        "f_1 = lambda x: np.sin(np.sin(np.sin(np.sqrt(x/2)))) + 1\n",
        "\n",
        "# 'Inverse Maxwell'\n",
        "def inverse_maxwell(x, a):\n",
        "    return -np.sqrt(2/math.pi) * x**2*np.exp(-x**2/(2*(a)**2))/(a)**3\n",
        "f_2 = lambda x: inverse_maxwell(x, 2) + 1 \n",
        "\n",
        "# \"(x - 2) * x * (x + 2)**2\"\n",
        "f_3 = lambda x: (x - 2) * x * (x + 2)**2 + 10 \n",
        "\n",
        "def callback(xk, f, funs, xs):\n",
        "    funs.append(f(xk))\n",
        "    xs.append(xk)\n",
        "#===== Input reading =====#\n",
        "optimizers = []\n",
        "Random_bracket_search = True #@param {type:\"boolean\"}\n",
        "Binary_search = True #@param {type:\"boolean\"}\n",
        "Golden_search = True #@param {type:\"boolean\"}\n",
        "Parabolic_search = True #@param {type:\"boolean\"}\n",
        "if Random_bracket_search:\n",
        "    optimizers.append('random search')\n",
        "if Binary_search:\n",
        "    optimizers.append('binary search')\n",
        "if Golden_search:\n",
        "    optimizers.append('golden search')\n",
        "if Parabolic_search:\n",
        "    optimizers.append('parabolic search')\n",
        "\n",
        "Function = '(x - 2) * x * (x + 2)**2' #@param ['Inverse Maxwell', \"sin(sin(sin(sqrt(x/2))))\", \"(x - 2) * x * (x + 2)**2\"] \n",
        "a = -2 #@param {type:\"slider\", min:-5, max:5, step:1}\n",
        "b = 7 #@param {type:\"slider\", min:0, max:10, step:1}\n",
        "tolerance = 1e-3\n",
        "tolerances_bound =  1e-9#@param {type:\"number\"}\n",
        "tolerances = np.logspace(np.log10(tolerances_bound), 0)\n",
        "print(f\"🤓 We'll compare {optimizers} on the {Function} function on the [{a}, {b}] interval\")\n",
        "\n",
        "if Function == 'Inverse Maxwell':\n",
        "    func = f_2\n",
        "elif Function == 'sin(sin(sin(sqrt(x/2))))':\n",
        "    func = f_1\n",
        "elif Function == '(x - 2) * x * (x + 2)**2':\n",
        "    func = f_3\n",
        "\n",
        "x = np.linspace(a,b)\n",
        "\n",
        "# fig, [[ax1,ax2], ax3]  = plt.subplots(2, 2, figsize=(12,8))\n",
        "\n",
        "fig = plt.figure(figsize = (8,3))\n",
        "ax1 = plt.subplot(121)\n",
        "ax2 = plt.subplot(122)\n",
        "ax1.plot(x, func(x))\n",
        "ax1.set_ylabel('f(x)')\n",
        "ax1.set_xlabel('x')\n",
        "ax1.grid()\n",
        "\n",
        "x0 = (a+b)/2   \n",
        "\n",
        "#===== Optimization =====#\n",
        "for opt in optimizers:\n",
        "    if opt == 'random search':\n",
        "        x0 = (a+b)/2 \n",
        "        funs_rbls = []\n",
        "        xs_rbls = []\n",
        "        n_it_rbls = []\n",
        "        callback_rbls = lambda xk: callback(xk, func, funs_rbls, xs_rbls)\n",
        "        res = minimize(func, x0, method=random_bracket_line_search, callback=callback_rbls, options={'maxiter': 100, 'tol': tolerance, 'x_a': a, 'x_b': b})\n",
        "        print(f'🤓 Random search: {res.nfev} function calls. {res.nit} iterations. f = {funs_rbls[-1]:.2f}')\n",
        "        for tolerance_ in tolerances:\n",
        "            res = minimize(func, x0, method=random_bracket_line_search, callback=callback_rbls, options={'maxiter': 1000, 'tol': tolerance_, 'x_a': a, 'x_b': b})\n",
        "            n_it_rbls.append(res.nit)\n",
        "        ax2.semilogy(n_it_rbls, tolerances , label='Random')\n",
        "    elif opt == 'binary search':\n",
        "        x0 = (a+b)/2 \n",
        "        funs_bs = []\n",
        "        xs_bs = []\n",
        "        n_it_bs = []\n",
        "        callback_bs = lambda xk: callback(xk, func, funs_bs, xs_bs)\n",
        "        res = minimize(func, x0, method=binary_search, callback=callback_bs, options={'maxiter': 100, 'tol': tolerance, 'x_a': a, 'x_b': b})\n",
        "        print(f'🤓 Binary search: {res.nfev} function calls. {res.nit} iterations. f = {funs_rbls[-1]:.2f}')\n",
        "        for tolerance_ in tolerances:\n",
        "            res = minimize(func, x0, method=binary_search, callback=callback_bs, options={'maxiter': 1000, 'tol': tolerance_, 'x_a': a, 'x_b': b})\n",
        "            n_it_bs.append(res.nit)\n",
        "        ax2.semilogy(n_it_bs, tolerances, label='Binary')\n",
        "    elif opt == 'golden search':\n",
        "        x0 = (a+b)/2 \n",
        "        funs_gs = []\n",
        "        xs_gs = []\n",
        "        n_it_gs = []\n",
        "        callback_gs = lambda xk: callback(xk, func, funs_gs, xs_gs)\n",
        "        res = minimize(func, x0, method=golden_search, callback=callback_gs, options={'maxiter': 100, 'tol': tolerance, 'x_a': a, 'x_b': b})\n",
        "        print(f'🤓 Golden search: {res.nfev} function calls. {res.nit} iterations. f = {funs_rbls[-1]:.2f}')\n",
        "        for tolerance_ in tolerances:\n",
        "            res = minimize(func, x0, method=golden_search, callback=callback_gs, options={'maxiter': 1000, 'tol': tolerance_, 'x_a': a, 'x_b': b})\n",
        "            n_it_gs.append(res.nit)\n",
        "        ax2.semilogy(n_it_gs, tolerances, label='Golden')\n",
        "    elif opt == 'parabolic search':\n",
        "        x0 = (a+b)/2 \n",
        "        funs_ps = []\n",
        "        xs_ps = []\n",
        "        n_it_ps = []\n",
        "        callback_ps = lambda xk: callback(xk, func, funs_ps, xs_ps)\n",
        "        res = minimize(func, x0, method=parabolic_search, callback=callback_ps, options={'maxiter': 100, 'tol': tolerance, 'x_a': a, 'x_b': b})\n",
        "        print(f'🤓 Parabolic search: {res.nfev} function calls. {res.nit} iterations. f = {funs_rbls[-1]:.2f}')\n",
        "        for tolerance_ in tolerances:\n",
        "            res = minimize(func, x0, method=parabolic_search, callback=callback_ps, options={'maxiter': 1000, 'tol': tolerance_, 'x_a': a, 'x_b': b})\n",
        "            n_it_ps.append(res.nit)\n",
        "        ax2.semilogy(n_it_ps, tolerances, label='Parabolic')\n",
        "\n",
        "ax2.set_ylabel('Error')\n",
        "ax2.set_xlabel('Iteration')\n",
        "ax2.grid()\n",
        "ax2.legend()\n",
        "\n",
        "fig.tight_layout()\n",
        "plt.show()\n"
      ],
      "metadata": {
        "colab": {
          "base_uri": "https://localhost:8080/",
          "height": 312
        },
        "id": "INqdzXqeiqCt",
        "outputId": "edc97797-b95b-4734-f33b-9e42edd23f8c"
      },
      "execution_count": null,
      "outputs": [
        {
          "output_type": "stream",
          "name": "stdout",
          "text": [
            "🤓 We'll compare ['random search', 'binary search', 'golden search', 'parabolic search'] on the (x - 2) * x * (x + 2)**2 function on the [-2, 7] interval\n",
            "🤓 Random search: 82 function calls. 41 iterations. f = 0.09\n",
            "🤓 Binary search: 24 function calls. 14 iterations. f = 0.44\n",
            "🤓 Golden search: 20 function calls. 19 iterations. f = 0.44\n",
            "🤓 Parabolic search: 43 function calls. 40 iterations. f = 0.44\n"
          ]
        },
        {
          "output_type": "display_data",
          "data": {
            "image/png": "[encoded data removed]",
            "text/plain": [
              "<Figure size 576x216 with 2 Axes>"
            ]
          },
          "metadata": {
            "needs_background": "light"
          }
        }
      ]
    },
    {
      "cell_type": "code",
      "source": [
        "'''\n",
        "def foo(x):\n",
        "    return [(i+1)**2 for i in range(x)]\n",
        "'''\n",
        "\n",
        "def boo(f, x):\n",
        "    x = f(x)\n",
        "    print(x)"
      ],
      "metadata": {
        "id": "flTHllxEk8cC"
      },
      "execution_count": null,
      "outputs": []
    },
    {
      "cell_type": "code",
      "source": [
        "def foo(x):\n",
        "    return [(i+1)**2 for i in range(x)]\n",
        "boo(foo, 5)"
      ],
      "metadata": {
        "colab": {
          "base_uri": "https://localhost:8080/"
        },
        "id": "-O56l5-dlbo5",
        "outputId": "474ea4cb-837c-40bc-e750-5e6ac5dbb936"
      },
      "execution_count": null,
      "outputs": [
        {
          "output_type": "stream",
          "name": "stdout",
          "text": [
            "[1, 4, 9, 16, 25]\n"
          ]
        }
      ]
    },
    {
      "cell_type": "markdown",
      "source": [
        "#Итог#"
      ],
      "metadata": {
        "id": "fZW5aKIZnEOx"
      }
    },
    {
      "cell_type": "markdown",
      "source": [
        "Теперь рассмотри эффектривность кажного ищ методов на заданных функциях"
      ],
      "metadata": {
        "id": "N2bR8_tvnPFx"
      }
    },
    {
      "cell_type": "markdown",
      "source": [
        "Унимодальный промежуток"
      ],
      "metadata": {
        "id": "kyFgAMLHanll"
      }
    },
    {
      "cell_type": "code",
      "source": [
        "def test1(method_name, f, a, b, method=\"\"):\n",
        "    res = [[] for i in range(6)]\n",
        "    # 0 - p/epsilon\n",
        "    # 1 - counter\n",
        "    # 2 - f_counter\n",
        "    # 3 - x\n",
        "    # 4 - left_bound / min_point_migration\n",
        "    # 5 - right_bound\n",
        "\n",
        "    base_methods = set(['D', 'G', 'F'])\n",
        "    if method_name in base_methods:\n",
        "        for i in range(1, 7):\n",
        "            x, A, B, c, f_c = method(f, a, b, i)\n",
        "            res[0].append(i)\n",
        "            res[1].append(c)\n",
        "            res[2].append(f_c)\n",
        "            res[3].append(x)\n",
        "            res[4].append(A)\n",
        "            res[5].append(B)\n",
        "        return np.array(res)\n",
        "\n",
        "    elif method_name == 'P':\n",
        "        for i in range(1, 7):\n",
        "            x, A, B, c, f_c = parabola_search(f, -3.5, b, 0.05, i)\n",
        "            res[0].append(i)\n",
        "            res[1].append(c)\n",
        "            res[2].append(f_c)\n",
        "            res[3].append(x)\n",
        "            res[4].append(A)\n",
        "        return np.array(res)\n",
        "    \n",
        "    for i in range(1, 7):\n",
        "        x, A, B, c, f_c = brents_method(f, a, b, i, 10 ** (-i))\n",
        "        res[0].append(i)\n",
        "        res[1].append(c)\n",
        "        res[2].append(f_c)\n",
        "        res[3].append(x)\n",
        "        res[4].append(A)\n",
        "        res[5].append(B)\n",
        "    return res"
      ],
      "metadata": {
        "id": "Wdg_J6HingRu"
      },
      "execution_count": null,
      "outputs": []
    },
    {
      "cell_type": "code",
      "source": [
        "functions = [('D', dichotomyMethod),\n",
        "             ('G', goldenRatioMethod),\n",
        "             ('F', FibonacciMethod),\n",
        "             ('P', parabola_search),\n",
        "             ('B', brents_method)]\n",
        "\n",
        "res1 = []\n",
        "\n",
        "for i in functions:\n",
        "    res1.append(test1(i[0], f, -5, 0, i[1]))"
      ],
      "metadata": {
        "colab": {
          "base_uri": "https://localhost:8080/"
        },
        "id": "-3_7JZG8BYCJ",
        "outputId": "296be3a8-224f-4973-8d7f-4fe182a6c1d6"
      },
      "execution_count": null,
      "outputs": [
        {
          "output_type": "stream",
          "name": "stdout",
          "text": [
            "Total operations performed: 10\n",
            "The function was calculated: 20 times\n",
            "Minimun of f(x) on the interval [-5, 0] is -3.945286852015593 at x = -2.287060546875\n",
            "Total operations performed: 14\n",
            "The function was calculated: 28 times\n",
            "Minimun of f(x) on the interval [-5, 0] is -3.945301535266634 at x = -2.288783874511718\n",
            "Total operations performed: 17\n",
            "The function was calculated: 34 times\n",
            "Minimun of f(x) on the interval [-5, 0] is -3.9453016246827124 at x = -2.288917804718017\n",
            "Total operations performed: 20\n",
            "The function was calculated: 40 times\n",
            "Minimun of f(x) on the interval [-5, 0] is -3.9453016252842414 at x = -2.288929869222641\n",
            "Total operations performed: 24\n",
            "The function was calculated: 48 times\n",
            "Minimun of f(x) on the interval [-5, 0] is -3.9453016252843067 at x = -2.288929795167148\n",
            "Total operations performed: 27\n",
            "The function was calculated: 54 times\n",
            "Minimun of f(x) on the interval [-5, 0] is -3.945301625284326 at x = -2.288929731889631\n",
            "Total operations performed: 9\n",
            "The function was calculated: 20 times\n",
            "Minimun of f(x) on the interval [-5, 0] is -3.945288045026081 at x = -2.2871376374779295\n",
            "Total operations performed: 13\n",
            "The function was calculated: 28 times\n",
            "Minimun of f(x) on the interval [-5, 0] is -3.945295794677982 at x = -2.290103240701984\n",
            "Total operations performed: 18\n",
            "The function was calculated: 38 times\n",
            "Minimun of f(x) on the interval [-5, 0] is -3.9453016093374726 at x = -2.2888683401936483\n",
            "Total operations performed: 23\n",
            "The function was calculated: 48 times\n",
            "Minimun of f(x) on the interval [-5, 0] is -3.9453016252715343 at x = -2.2889314667221017\n",
            "Total operations performed: 28\n",
            "The function was calculated: 58 times\n",
            "Minimun of f(x) on the interval [-5, 0] is -3.9453016252836655 at x = -2.2889301231088455\n",
            "Total operations performed: 32\n",
            "The function was calculated: 66 times\n",
            "Minimun of f(x) on the interval [-5, 0] is -3.9453016252843 at x = -2.2889298054194596\n",
            "Total operations performed: 6\n",
            "The function was calculated: 14 times\n",
            "Minimun of f(x) on the interval [-5, 0] is -3.944198412490749 at x = -2.2727272727272725\n",
            "Total operations performed: 11\n",
            "The function was calculated: 24 times\n",
            "Minimun of f(x) on the interval [-5, 0] is -3.9452839523816303 at x = -2.2868852459016393\n",
            "Total operations performed: 16\n",
            "The function was calculated: 34 times\n",
            "Minimun of f(x) on the interval [-5, 0] is -3.945301602892111 at x = -2.2888569844789357\n",
            "Total operations performed: 21\n",
            "The function was calculated: 44 times\n",
            "Minimun of f(x) on the interval [-5, 0] is -3.9453016175661775 at x = -2.288887020993002\n",
            "Total operations performed: 25\n",
            "The function was calculated: 52 times\n",
            "Minimun of f(x) on the interval [-5, 0] is -3.945301625271828 at x = -2.2889314466025836\n",
            "Total operations performed: 30\n",
            "The function was calculated: 62 times\n",
            "Minimun of f(x) on the interval [-5, 0] is -3.9453016252837747 at x = -2.288930089015704\n",
            "Total operations performed: 3\n",
            "The function was calculated: 12 times\n",
            "Minimum of f(x) on the interval [-3.5, 0] is at y = -3.9453014391634746 and x = -2.28872\n",
            "Total operations performed: 4\n",
            "The function was calculated: 16 times\n",
            "Minimum of f(x) on the interval [-3.5, 0] is at y = -3.9453004200768738 and x = -2.288396\n",
            "Total operations performed: 5\n",
            "The function was calculated: 20 times\n",
            "Minimum of f(x) on the interval [-3.5, 0] is at y = -3.9453004187217915 and x = -2.2883957\n",
            "Total operations performed: 5\n",
            "The function was calculated: 20 times\n",
            "Minimum of f(x) on the interval [-3.5, 0] is at y = -3.945300418902513 and x = -2.28839574\n",
            "Total operations performed: 5\n",
            "The function was calculated: 20 times\n",
            "Minimum of f(x) on the interval [-3.5, 0] is at y = -3.9453004189205845 and x = -2.288395744\n",
            "Total operations performed: 5\n",
            "The function was calculated: 20 times\n",
            "Minimum of f(x) on the interval [-3.5, 0] is at y = -3.945300418921036 and x = -2.2883957441\n",
            "Total operations performed: 5\n",
            "The function was calculated: 6 times\n",
            "Minimum of f(x) on the interval [-5, 0] is at y = -3.942952615197889 and x = -2.265248870159896\n",
            "Total operations performed: 7\n",
            "The function was calculated: 8 times\n",
            "Minimum of f(x) on the interval [-5, 0] is at y = -3.945264342064064 and x = -2.2918960728033824\n",
            "Total operations performed: 9\n",
            "The function was calculated: 10 times\n",
            "Minimum of f(x) on the interval [-5, 0] is at y = -3.945301613197624 and x = -2.2889831708310804\n",
            "Total operations performed: 12\n",
            "The function was calculated: 13 times\n",
            "Minimum of f(x) on the interval [-5, 0] is at y = -3.9453016212351915 and x = -2.2889606608080024\n",
            "Total operations performed: 15\n",
            "The function was calculated: 16 times\n",
            "Minimum of f(x) on the interval [-5, 0] is at y = -3.945301625283928 and x = -2.288930034701647\n",
            "Total operations performed: 19\n",
            "The function was calculated: 20 times\n",
            "Minimum of f(x) on the interval [-5, 0] is at y = -3.9453016252737676 and x = -2.2889281485344726\n"
          ]
        },
        {
          "output_type": "stream",
          "name": "stderr",
          "text": [
            "/usr/local/lib/python3.7/dist-packages/ipykernel_launcher.py:20: VisibleDeprecationWarning: Creating an ndarray from ragged nested sequences (which is a list-or-tuple of lists-or-tuples-or ndarrays with different lengths or shapes) is deprecated. If you meant to do this, you must specify 'dtype=object' when creating the ndarray.\n",
            "/usr/local/lib/python3.7/dist-packages/ipykernel_launcher.py:30: VisibleDeprecationWarning: Creating an ndarray from ragged nested sequences (which is a list-or-tuple of lists-or-tuples-or ndarrays with different lengths or shapes) is deprecated. If you meant to do this, you must specify 'dtype=object' when creating the ndarray.\n"
          ]
        }
      ]
    },
    {
      "cell_type": "code",
      "source": [
        "for i in range(5):\n",
        "    print(functions[i][0] + \" method\")\n",
        "    for j in range(4):\n",
        "        print(res1[i][j])\n",
        "    print()"
      ],
      "metadata": {
        "colab": {
          "base_uri": "https://localhost:8080/"
        },
        "id": "N0lMCSd_06zZ",
        "outputId": "536e70d5-a11f-455a-cf0d-ba84c68bea8b"
      },
      "execution_count": null,
      "outputs": [
        {
          "output_type": "stream",
          "name": "stdout",
          "text": [
            "D method\n",
            "[1 2 3 4 5 6]\n",
            "[10 14 17 20 24 27]\n",
            "[20 28 34 40 48 54]\n",
            "[-2.287060546875 -2.288783874511718 -2.288917804718017 -2.288929869222641\n",
            " -2.288929795167148 -2.288929731889631]\n",
            "\n",
            "G method\n",
            "[1 2 3 4 5 6]\n",
            "[9 13 18 23 28 32]\n",
            "[20 28 38 48 58 66]\n",
            "[-2.2871376374779295 -2.290103240701984 -2.2888683401936483\n",
            " -2.2889314667221017 -2.2889301231088455 -2.2889298054194596]\n",
            "\n",
            "F method\n",
            "[1 2 3 4 5 6]\n",
            "[6 11 16 21 25 30]\n",
            "[14 24 34 44 52 62]\n",
            "[-2.2727272727272725 -2.2868852459016393 -2.2888569844789357\n",
            " -2.288887020993002 -2.2889314466025836 -2.288930089015704]\n",
            "\n",
            "P method\n",
            "[1, 2, 3, 4, 5, 6]\n",
            "[3, 4, 5, 5, 5, 5]\n",
            "[12, 16, 20, 20, 20, 20]\n",
            "[-2.28872, -2.288396, -2.2883957, -2.28839574, -2.288395744, -2.2883957441]\n",
            "\n",
            "B method\n",
            "[1, 2, 3, 4, 5, 6]\n",
            "[5, 7, 9, 12, 15, 19]\n",
            "[6, 8, 10, 13, 16, 20]\n",
            "[-2.265248870159896, -2.2918960728033824, -2.2889831708310804, -2.2889606608080024, -2.288930034701647, -2.2889281485344726]\n",
            "\n"
          ]
        }
      ]
    },
    {
      "cell_type": "code",
      "source": [
        "res1[i][4][0]"
      ],
      "metadata": {
        "colab": {
          "base_uri": "https://localhost:8080/"
        },
        "id": "H_HWdNka1eM9",
        "outputId": "d8d4113e-b2d0-4133-dbfb-f1b625109ef2"
      },
      "execution_count": null,
      "outputs": [
        {
          "output_type": "execute_result",
          "data": {
            "text/plain": [
              "array([-5.        , -2.55      , -2.55      , -2.55      , -2.55      ,\n",
              "       -2.396875  , -2.396875  , -2.35859375, -2.33945312, -2.33945312,\n",
              "       -2.33945312, -2.33945312])"
            ]
          },
          "metadata": {},
          "execution_count": 56
        }
      ]
    },
    {
      "cell_type": "code",
      "source": [
        "for j in [0, 1, 2, 4]:\n",
        "    left = np.array(res1[j][4][3])\n",
        "    right = np.array(res1[j][5][3])\n",
        "    plt.plot(np.log(right - left), label=functions[j][0])\n",
        "plt.legend()\n",
        "plt.show()"
      ],
      "metadata": {
        "colab": {
          "base_uri": "https://localhost:8080/",
          "height": 266
        },
        "id": "L6oFS-WD1Jfq",
        "outputId": "6db61bad-7397-4cdb-f2f3-0a9bc9997262"
      },
      "execution_count": null,
      "outputs": [
        {
          "output_type": "display_data",
          "data": {
            "text/plain": [
              "<Figure size 432x288 with 1 Axes>"
            ],
            "image/png": "[encoded data removed]"
          },
          "metadata": {
            "needs_background": "light"
          }
        }
      ]
    },
    {
      "cell_type": "markdown",
      "source": [
        "Многомодальный промежуток"
      ],
      "metadata": {
        "id": "wondSobdawfD"
      }
    },
    {
      "cell_type": "code",
      "source": [
        "def test2(method_name, f, a, b, method=\"\"):\n",
        "    res = [[] for i in range(6)]\n",
        "    # 0 - p/epsilon\n",
        "    # 1 - counter\n",
        "    # 2 - f_counter\n",
        "    # 3 - x\n",
        "    # 4 - left_bound / min_point_migration\n",
        "    # 5 - right_bound\n",
        "\n",
        "    base_methods = set(['D', 'G', 'F'])\n",
        "    if method_name in base_methods:\n",
        "        for i in range(1, 7):\n",
        "            x, A, B, c, f_c = method(f, a, b, i)\n",
        "            res[0].append(i)\n",
        "            res[1].append(c)\n",
        "            res[2].append(f_c)\n",
        "            res[3].append(x)\n",
        "            res[4].append(A)\n",
        "            res[5].append(B)\n",
        "        return np.array(res)\n",
        "\n",
        "    elif method_name == 'P':\n",
        "        for i in range(1, 7):\n",
        "            x, A, B, c, f_c = parabola_search(f, a, b, 0.51, i)\n",
        "            res[0].append(i)\n",
        "            res[1].append(c)\n",
        "            res[2].append(f_c)\n",
        "            res[3].append(x)\n",
        "            res[4].append(A)\n",
        "        return np.array(res)\n",
        "    \n",
        "    for i in range(1, 7):\n",
        "        x, A, B, c, f_c = brents_method(f, a, b, i, 10 ** (-i))\n",
        "        res[0].append(i)\n",
        "        res[1].append(c)\n",
        "        res[2].append(f_c)\n",
        "        res[3].append(x)\n",
        "        res[4].append(A)\n",
        "        res[5].append(B)\n",
        "    return res"
      ],
      "metadata": {
        "id": "Vsbxtx5zvIZM"
      },
      "execution_count": null,
      "outputs": []
    },
    {
      "cell_type": "code",
      "source": [
        "def nf(x):\n",
        "    return (x - 1) * (x - 1) * (x - 4) * (x + 5)"
      ],
      "metadata": {
        "id": "QzP88vsGxDB9"
      },
      "execution_count": null,
      "outputs": []
    },
    {
      "cell_type": "code",
      "source": [
        "functions = [('D', dichotomyMethod),\n",
        "             ('G', goldenRatioMethod),\n",
        "             ('F', FibonacciMethod),\n",
        "             ('P', parabola_search),\n",
        "             ('B', brents_method)]\n",
        "\n",
        "res2 = []\n",
        "\n",
        "for i in functions:\n",
        "    res2.append(test2(i[0], f, -15, -5, i[1]))"
      ],
      "metadata": {
        "id": "6RSCKQBSocfh",
        "colab": {
          "base_uri": "https://localhost:8080/"
        },
        "outputId": "ec81aef1-57ce-4e04-a88d-19a013f0f3dc"
      },
      "execution_count": null,
      "outputs": [
        {
          "output_type": "stream",
          "name": "stdout",
          "text": [
            "Total operations performed: 11\n",
            "The function was calculated: 22 times\n",
            "Minimun of f(x) on the interval [-15, -5] is -63.634885815309104 at x = -8.097827148437503\n",
            "Total operations performed: 15\n",
            "The function was calculated: 30 times\n",
            "Minimun of f(x) on the interval [-15, -5] is -63.634981772007535 at x = -8.096235504150393\n",
            "Total operations performed: 18\n",
            "The function was calculated: 36 times\n",
            "Minimun of f(x) on the interval [-15, -5] is -63.6349819426356 at x = -8.096179628372191\n",
            "Total operations performed: 21\n",
            "The function was calculated: 42 times\n",
            "Minimun of f(x) on the interval [-15, -5] is -63.634981951549825 at x = -8.096163237929346\n",
            "Total operations performed: 25\n",
            "The function was calculated: 50 times\n",
            "Minimun of f(x) on the interval [-15, -5] is -63.63498195155431 at x = -8.096163537568302\n",
            "Total operations performed: 28\n",
            "The function was calculated: 56 times\n",
            "Minimun of f(x) on the interval [-15, -5] is -63.63498195155445 at x = -8.096163593626487\n",
            "Total operations performed: 10\n",
            "The function was calculated: 22 times\n",
            "Minimun of f(x) on the interval [-15, -5] is -63.63373549822406 at x = -8.090169943749475\n",
            "Total operations performed: 15\n",
            "The function was calculated: 32 times\n",
            "Minimun of f(x) on the interval [-15, -5] is -63.63498181609581 at x = -8.096101150197583\n",
            "Total operations performed: 20\n",
            "The function was calculated: 42 times\n",
            "Minimun of f(x) on the interval [-15, -5] is -63.63498181018675 at x = -8.09622740325449\n",
            "Total operations performed: 24\n",
            "The function was calculated: 50 times\n",
            "Minimun of f(x) on the interval [-15, -5] is -63.634981951273474 at x = -8.096160758848203\n",
            "Total operations performed: 29\n",
            "The function was calculated: 60 times\n",
            "Minimun of f(x) on the interval [-15, -5] is -63.63498195150586 at x = -8.096162420150845\n",
            "Total operations performed: 34\n",
            "The function was calculated: 70 times\n",
            "Minimun of f(x) on the interval [-15, -5] is -63.634981951554344 at x = -8.096163545196964\n",
            "Total operations performed: 8\n",
            "The function was calculated: 18 times\n",
            "Minimun of f(x) on the interval [-15, -5] is -63.6059732526839 at x = -8.125\n",
            "Total operations performed: 13\n",
            "The function was calculated: 28 times\n",
            "Minimun of f(x) on the interval [-15, -5] is -63.63420460565647 at x = -8.09143080776456\n",
            "Total operations performed: 17\n",
            "The function was calculated: 36 times\n",
            "Minimun of f(x) on the interval [-15, -5] is -63.63498184482562 at x = -8.096108167367074\n",
            "Total operations performed: 22\n",
            "The function was calculated: 46 times\n",
            "Minimun of f(x) on the interval [-15, -5] is -63.634981935766 at x = -8.096142281680162\n",
            "Total operations performed: 27\n",
            "The function was calculated: 56 times\n",
            "Minimun of f(x) on the interval [-15, -5] is -63.63498195154192 at x = -8.096163002085767\n",
            "Total operations performed: 32\n",
            "The function was calculated: 66 times\n",
            "Minimun of f(x) on the interval [-15, -5] is -63.63498195155353 at x = -8.096163439415225\n",
            "Total operations performed: 2\n",
            "The function was calculated: 8 times\n",
            "Minimum of f(x) on the interval [-15, -5] is at y = -201.84219845253187 and x = -14.27322\n",
            "Total operations performed: 2\n",
            "The function was calculated: 8 times\n",
            "Minimum of f(x) on the interval [-15, -5] is at y = -201.84219715073397 and x = -14.273218\n",
            "Total operations performed: 2\n",
            "The function was calculated: 8 times\n",
            "Minimum of f(x) on the interval [-15, -5] is at y = -201.84219702050845 and x = -14.2732178\n",
            "Total operations performed: 7\n",
            "The function was calculated: 28 times\n",
            "Minimum of f(x) on the interval [-15, -5] is at y = -201.82777963463775 and x = -14.26415591\n",
            "Total operations performed: 7\n",
            "The function was calculated: 28 times\n",
            "Minimum of f(x) on the interval [-15, -5] is at y = -201.82777964475787 and x = -14.264155914\n",
            "Total operations performed: 8\n",
            "The function was calculated: 32 times\n",
            "Minimum of f(x) on the interval [-15, -5] is at y = -201.82777930421443 and x = -14.2641557794\n",
            "Total operations performed: 6\n",
            "The function was calculated: 7 times\n",
            "Minimum of f(x) on the interval [-15, -5] is at y = -63.63373549822406 and x = -8.090169943749475\n",
            "Total operations performed: 6\n",
            "The function was calculated: 7 times\n",
            "Minimum of f(x) on the interval [-15, -5] is at y = -63.634424157788466 and x = -8.100169943749474\n",
            "Total operations performed: 9\n",
            "The function was calculated: 10 times\n",
            "Minimum of f(x) on the interval [-15, -5] is at y = -63.63498158346467 and x = -8.096060652741063\n",
            "Total operations performed: 8\n",
            "The function was calculated: 9 times\n",
            "Minimum of f(x) on the interval [-15, -5] is at y = -63.63498195122884 and x = -8.096160541238499\n",
            "Total operations performed: 9\n",
            "The function was calculated: 10 times\n",
            "Minimum of f(x) on the interval [-15, -5] is at y = -63.63498195150868 and x = -8.096164751408036\n",
            "Total operations performed: 11\n",
            "The function was calculated: 12 times\n",
            "Minimum of f(x) on the interval [-15, -5] is at y = -63.634981951554124 and x = -8.096163701224398\n"
          ]
        },
        {
          "output_type": "stream",
          "name": "stderr",
          "text": [
            "/usr/local/lib/python3.7/dist-packages/ipykernel_launcher.py:20: VisibleDeprecationWarning: Creating an ndarray from ragged nested sequences (which is a list-or-tuple of lists-or-tuples-or ndarrays with different lengths or shapes) is deprecated. If you meant to do this, you must specify 'dtype=object' when creating the ndarray.\n",
            "/usr/local/lib/python3.7/dist-packages/ipykernel_launcher.py:30: VisibleDeprecationWarning: Creating an ndarray from ragged nested sequences (which is a list-or-tuple of lists-or-tuples-or ndarrays with different lengths or shapes) is deprecated. If you meant to do this, you must specify 'dtype=object' when creating the ndarray.\n"
          ]
        }
      ]
    },
    {
      "cell_type": "code",
      "source": [
        "for i in range(5):\n",
        "    print(functions[i][0] + \" method\")\n",
        "    for j in range(4):\n",
        "        print(res2[i][j])\n",
        "    print()"
      ],
      "metadata": {
        "colab": {
          "base_uri": "https://localhost:8080/"
        },
        "id": "3b_pWRbMtI7p",
        "outputId": "e9158aea-a80d-447c-f1c9-577c0f7d4a6b"
      },
      "execution_count": null,
      "outputs": [
        {
          "output_type": "stream",
          "name": "stdout",
          "text": [
            "D method\n",
            "[1 2 3 4 5 6]\n",
            "[11 15 18 21 25 28]\n",
            "[22 30 36 42 50 56]\n",
            "[-8.097827148437503 -8.096235504150393 -8.096179628372191\n",
            " -8.096163237929346 -8.096163537568302 -8.096163593626487]\n",
            "\n",
            "G method\n",
            "[1 2 3 4 5 6]\n",
            "[10 15 20 24 29 34]\n",
            "[22 32 42 50 60 70]\n",
            "[-8.090169943749475 -8.096101150197583 -8.09622740325449\n",
            " -8.096160758848203 -8.096162420150845 -8.096163545196964]\n",
            "\n",
            "F method\n",
            "[1 2 3 4 5 6]\n",
            "[8 13 17 22 27 32]\n",
            "[18 28 36 46 56 66]\n",
            "[-8.125 -8.09143080776456 -8.096108167367074 -8.096142281680162\n",
            " -8.096163002085767 -8.096163439415225]\n",
            "\n",
            "P method\n",
            "[1, 2, 3, 4, 5, 6]\n",
            "[2, 2, 2, 7, 7, 8]\n",
            "[8, 8, 8, 28, 28, 32]\n",
            "[-14.27322, -14.273218, -14.2732178, -14.26415591, -14.264155914, -14.2641557794]\n",
            "\n",
            "B method\n",
            "[1, 2, 3, 4, 5, 6]\n",
            "[6, 6, 9, 8, 9, 11]\n",
            "[7, 7, 10, 9, 10, 12]\n",
            "[-8.090169943749475, -8.100169943749474, -8.096060652741063, -8.096160541238499, -8.096164751408036, -8.096163701224398]\n",
            "\n"
          ]
        }
      ]
    },
    {
      "cell_type": "code",
      "source": [
        "for j in [0, 1, 2, 4]:\n",
        "    left = np.array(res2[j][4][3])\n",
        "    right = np.array(res2[j][5][3])\n",
        "    plt.plot(np.log(right - left), label=functions[j][0])\n",
        "plt.legend()\n",
        "plt.show()"
      ],
      "metadata": {
        "colab": {
          "base_uri": "https://localhost:8080/",
          "height": 265
        },
        "id": "BIsk-PDV2vGs",
        "outputId": "c5684b70-d620-4745-e426-95f54e9afced"
      },
      "execution_count": null,
      "outputs": [
        {
          "output_type": "display_data",
          "data": {
            "text/plain": [
              "<Figure size 432x288 with 1 Axes>"
            ],
            "image/png": "[encoded data removed]"
          },
          "metadata": {
            "needs_background": "light"
          }
        }
      ]
    },
    {
      "cell_type": "code",
      "source": [
        "plt.plot(res1[3][4][3], label='P - unimodal');\n",
        "plt.legend();\n",
        "plt.show()\n",
        "plt.plot(res2[3][4][3], label='P - multimodal');\n",
        "plt.legend();"
      ],
      "metadata": {
        "colab": {
          "base_uri": "https://localhost:8080/",
          "height": 513
        },
        "id": "7bWKaGnr6bj6",
        "outputId": "c0a5abf1-9aba-4c8c-d0d0-14541306332e"
      },
      "execution_count": null,
      "outputs": [
        {
          "output_type": "display_data",
          "data": {
            "text/plain": [
              "<Figure size 432x288 with 1 Axes>"
            ],
            "image/png": "[encoded data removed]"
          },
          "metadata": {
            "needs_background": "light"
          }
        },
        {
          "output_type": "display_data",
          "data": {
            "text/plain": [
              "<Figure size 432x288 with 1 Axes>"
            ],
            "image/png": "[encoded data removed]"
          },
          "metadata": {
            "needs_background": "light"
          }
        }
      ]
    },
    {
      "cell_type": "code",
      "source": [
        "for j in range(3):\n",
        "    left = np.array(res2[j][4][3])\n",
        "    right = np.array(res2[j][5][3])\n",
        "    tmp = right - left\n",
        "    ans = []\n",
        "    for i in range(1, len(tmp)):\n",
        "        ans.append(tmp[i]/tmp[i-1])\n",
        "    plt.plot(ans)\n",
        "    plt.show()"
      ],
      "metadata": {
        "colab": {
          "base_uri": "https://localhost:8080/",
          "height": 780
        },
        "id": "-vsAGyhVHw8_",
        "outputId": "0a3f20f8-26eb-4d82-9f16-8159505c763a"
      },
      "execution_count": null,
      "outputs": [
        {
          "output_type": "display_data",
          "data": {
            "text/plain": [
              "<Figure size 432x288 with 1 Axes>"
            ],
            "image/png": "[encoded data removed]"
          },
          "metadata": {
            "needs_background": "light"
          }
        },
        {
          "output_type": "display_data",
          "data": {
            "text/plain": [
              "<Figure size 432x288 with 1 Axes>"
            ],
            "image/png": "[encoded data removed]"
          },
          "metadata": {
            "needs_background": "light"
          }
        },
        {
          "output_type": "display_data",
          "data": {
            "text/plain": [
              "<Figure size 432x288 with 1 Axes>"
            ],
            "image/png": "[encoded data removed]"
          },
          "metadata": {
            "needs_background": "light"
          }
        }
      ]
    },
    {
      "cell_type": "code",
      "source": [
        "left = np.array(res2[2][4][3])\n",
        "right = np.array(res2[2][5][3])\n",
        "tmp = right - left\n",
        "ans = []\n",
        "for i in range(1, len(tmp)):\n",
        "    ans.append(tmp[i]/tmp[i-1])\n",
        "\n",
        "print(ans)"
      ],
      "metadata": {
        "colab": {
          "base_uri": "https://localhost:8080/"
        },
        "id": "fNjp4wiSKFuk",
        "outputId": "92647f9e-79f3-49d6-8b57-df200aa79fa0"
      },
      "execution_count": null,
      "outputs": [
        {
          "output_type": "stream",
          "name": "stdout",
          "text": [
            "[0.6180339887802427, 0.6180339886704431, 0.618033988957902, 0.6180339882053251, 0.618033990175597, 0.6180339850173571, 0.6180339985218056, 0.6180339631667059, 0.6180340557275559, 0.6180338134001206, 0.6180344478216719, 0.6180327868852367, 0.6180371352785389, 0.6180257510729904, 0.6180555555556294, 0.6179775280899367, 0.6181818181816898, 0.6176470588232309, 0.6190476190473746, 0.6153846153852534, 0.6250000000010107, 0.6000000000017252, 0.6666666666690626]\n"
          ]
        }
      ]
    },
    {
      "cell_type": "code",
      "source": [
        "for j in range(3):\n",
        "    left = np.array(res1[j][4][3])\n",
        "    right = np.array(res1[j][5][3])\n",
        "    tmp = right - left\n",
        "    ans = []\n",
        "    for i in range(1, len(tmp)):\n",
        "        ans.append(tmp[i]/tmp[i-1])\n",
        "    plt.plot(ans)\n",
        "    plt.show()"
      ],
      "metadata": {
        "colab": {
          "base_uri": "https://localhost:8080/",
          "height": 776
        },
        "id": "VcfARsiPJBPb",
        "outputId": "238c405e-7fe0-45de-e731-a83aa73645a8"
      },
      "execution_count": null,
      "outputs": [
        {
          "output_type": "display_data",
          "data": {
            "text/plain": [
              "<Figure size 432x288 with 1 Axes>"
            ],
            "image/png": "[encoded data removed]"
          },
          "metadata": {
            "needs_background": "light"
          }
        },
        {
          "output_type": "display_data",
          "data": {
            "text/plain": [
              "<Figure size 432x288 with 1 Axes>"
            ],
            "image/png": "[encoded data removed]"
          },
          "metadata": {
            "needs_background": "light"
          }
        },
        {
          "output_type": "display_data",
          "data": {
            "text/plain": [
              "<Figure size 432x288 with 1 Axes>"
            ],
            "image/png": "[encoded data removed]"
          },
          "metadata": {
            "needs_background": "light"
          }
        }
      ]
    }
  ]
}